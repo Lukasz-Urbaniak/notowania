{
 "cells": [
  {
   "cell_type": "markdown",
   "metadata": {},
   "source": [
    "### Instalacja potrzebnych bibliotek"
   ]
  },
  {
   "cell_type": "code",
   "execution_count": 7,
   "metadata": {
    "id": "5MHCQeDAUd3X",
    "scrolled": true
   },
   "outputs": [
    {
     "name": "stdout",
     "output_type": "stream",
     "text": [
      "Note: you may need to restart the kernel to use updated packages.\n"
     ]
    },
    {
     "name": "stderr",
     "output_type": "stream",
     "text": [
      "ERROR: Invalid requirement: '#interaktywne'\n"
     ]
    }
   ],
   "source": [
    "pip install ipywidgets #interaktywne widżety HTML dla notebooków Jupyter i jądra IPython"
   ]
  },
  {
   "cell_type": "code",
   "execution_count": 2,
   "metadata": {},
   "outputs": [
    {
     "name": "stdout",
     "output_type": "stream",
     "text": [
      "Requirement already satisfied: keras in c:\\users\\lukiu\\.venv\\lib\\site-packages (2.12.0)\n",
      "Note: you may need to restart the kernel to use updated packages.\n"
     ]
    }
   ],
   "source": [
    "pip install keras "
   ]
  },
  {
   "cell_type": "code",
   "execution_count": 3,
   "metadata": {},
   "outputs": [
    {
     "name": "stdout",
     "output_type": "stream",
     "text": [
      "Requirement already satisfied: tensorflow in c:\\users\\lukiu\\.venv\\lib\\site-packages (2.12.0)\n",
      "Requirement already satisfied: tensorflow-intel==2.12.0 in c:\\users\\lukiu\\.venv\\lib\\site-packages (from tensorflow) (2.12.0)\n",
      "Requirement already satisfied: absl-py>=1.0.0 in c:\\users\\lukiu\\.venv\\lib\\site-packages (from tensorflow-intel==2.12.0->tensorflow) (1.4.0)\n",
      "Requirement already satisfied: astunparse>=1.6.0 in c:\\users\\lukiu\\.venv\\lib\\site-packages (from tensorflow-intel==2.12.0->tensorflow) (1.6.3)\n",
      "Requirement already satisfied: flatbuffers>=2.0 in c:\\users\\lukiu\\.venv\\lib\\site-packages (from tensorflow-intel==2.12.0->tensorflow) (23.3.3)\n",
      "Requirement already satisfied: gast<=0.4.0,>=0.2.1 in c:\\users\\lukiu\\.venv\\lib\\site-packages (from tensorflow-intel==2.12.0->tensorflow) (0.4.0)\n",
      "Requirement already satisfied: google-pasta>=0.1.1 in c:\\users\\lukiu\\.venv\\lib\\site-packages (from tensorflow-intel==2.12.0->tensorflow) (0.2.0)\n",
      "Requirement already satisfied: h5py>=2.9.0 in c:\\users\\lukiu\\.venv\\lib\\site-packages (from tensorflow-intel==2.12.0->tensorflow) (3.8.0)\n",
      "Requirement already satisfied: jax>=0.3.15 in c:\\users\\lukiu\\.venv\\lib\\site-packages (from tensorflow-intel==2.12.0->tensorflow) (0.4.8)\n",
      "Requirement already satisfied: libclang>=13.0.0 in c:\\users\\lukiu\\.venv\\lib\\site-packages (from tensorflow-intel==2.12.0->tensorflow) (16.0.0)\n",
      "Requirement already satisfied: numpy<1.24,>=1.22 in c:\\users\\lukiu\\.venv\\lib\\site-packages (from tensorflow-intel==2.12.0->tensorflow) (1.23.5)\n",
      "Requirement already satisfied: opt-einsum>=2.3.2 in c:\\users\\lukiu\\.venv\\lib\\site-packages (from tensorflow-intel==2.12.0->tensorflow) (3.3.0)\n",
      "Requirement already satisfied: packaging in c:\\users\\lukiu\\.venv\\lib\\site-packages (from tensorflow-intel==2.12.0->tensorflow) (23.0)\n",
      "Requirement already satisfied: protobuf!=4.21.0,!=4.21.1,!=4.21.2,!=4.21.3,!=4.21.4,!=4.21.5,<5.0.0dev,>=3.20.3 in c:\\users\\lukiu\\.venv\\lib\\site-packages (from tensorflow-intel==2.12.0->tensorflow) (4.22.1)\n",
      "Requirement already satisfied: setuptools in c:\\users\\lukiu\\.venv\\lib\\site-packages (from tensorflow-intel==2.12.0->tensorflow) (58.1.0)\n",
      "Requirement already satisfied: six>=1.12.0 in c:\\users\\lukiu\\.venv\\lib\\site-packages (from tensorflow-intel==2.12.0->tensorflow) (1.16.0)\n",
      "Requirement already satisfied: termcolor>=1.1.0 in c:\\users\\lukiu\\.venv\\lib\\site-packages (from tensorflow-intel==2.12.0->tensorflow) (2.2.0)\n",
      "Requirement already satisfied: typing-extensions>=3.6.6 in c:\\users\\lukiu\\.venv\\lib\\site-packages (from tensorflow-intel==2.12.0->tensorflow) (4.5.0)\n",
      "Requirement already satisfied: wrapt<1.15,>=1.11.0 in c:\\users\\lukiu\\.venv\\lib\\site-packages (from tensorflow-intel==2.12.0->tensorflow) (1.14.1)\n",
      "Requirement already satisfied: grpcio<2.0,>=1.24.3 in c:\\users\\lukiu\\.venv\\lib\\site-packages (from tensorflow-intel==2.12.0->tensorflow) (1.53.0)\n",
      "Requirement already satisfied: tensorboard<2.13,>=2.12 in c:\\users\\lukiu\\.venv\\lib\\site-packages (from tensorflow-intel==2.12.0->tensorflow) (2.12.1)\n",
      "Requirement already satisfied: tensorflow-estimator<2.13,>=2.12.0 in c:\\users\\lukiu\\.venv\\lib\\site-packages (from tensorflow-intel==2.12.0->tensorflow) (2.12.0)\n",
      "Requirement already satisfied: keras<2.13,>=2.12.0 in c:\\users\\lukiu\\.venv\\lib\\site-packages (from tensorflow-intel==2.12.0->tensorflow) (2.12.0)\n",
      "Requirement already satisfied: tensorflow-io-gcs-filesystem>=0.23.1 in c:\\users\\lukiu\\.venv\\lib\\site-packages (from tensorflow-intel==2.12.0->tensorflow) (0.31.0)\n",
      "Requirement already satisfied: wheel<1.0,>=0.23.0 in c:\\users\\lukiu\\.venv\\lib\\site-packages (from astunparse>=1.6.0->tensorflow-intel==2.12.0->tensorflow) (0.40.0)\n",
      "Requirement already satisfied: ml-dtypes>=0.0.3 in c:\\users\\lukiu\\.venv\\lib\\site-packages (from jax>=0.3.15->tensorflow-intel==2.12.0->tensorflow) (0.0.4)\n",
      "Requirement already satisfied: scipy>=1.7 in c:\\users\\lukiu\\.venv\\lib\\site-packages (from jax>=0.3.15->tensorflow-intel==2.12.0->tensorflow) (1.10.1)\n",
      "Requirement already satisfied: google-auth<3,>=1.6.3 in c:\\users\\lukiu\\.venv\\lib\\site-packages (from tensorboard<2.13,>=2.12->tensorflow-intel==2.12.0->tensorflow) (2.17.1)\n",
      "Requirement already satisfied: google-auth-oauthlib<1.1,>=0.5 in c:\\users\\lukiu\\.venv\\lib\\site-packages (from tensorboard<2.13,>=2.12->tensorflow-intel==2.12.0->tensorflow) (1.0.0)\n",
      "Requirement already satisfied: markdown>=2.6.8 in c:\\users\\lukiu\\.venv\\lib\\site-packages (from tensorboard<2.13,>=2.12->tensorflow-intel==2.12.0->tensorflow) (3.4.3)\n",
      "Requirement already satisfied: requests<3,>=2.21.0 in c:\\users\\lukiu\\.venv\\lib\\site-packages (from tensorboard<2.13,>=2.12->tensorflow-intel==2.12.0->tensorflow) (2.27.1)\n",
      "Requirement already satisfied: tensorboard-data-server<0.8.0,>=0.7.0 in c:\\users\\lukiu\\.venv\\lib\\site-packages (from tensorboard<2.13,>=2.12->tensorflow-intel==2.12.0->tensorflow) (0.7.0)\n",
      "Requirement already satisfied: tensorboard-plugin-wit>=1.6.0 in c:\\users\\lukiu\\.venv\\lib\\site-packages (from tensorboard<2.13,>=2.12->tensorflow-intel==2.12.0->tensorflow) (1.8.1)\n",
      "Requirement already satisfied: werkzeug>=1.0.1 in c:\\users\\lukiu\\.venv\\lib\\site-packages (from tensorboard<2.13,>=2.12->tensorflow-intel==2.12.0->tensorflow) (2.2.3)\n",
      "Requirement already satisfied: cachetools<6.0,>=2.0.0 in c:\\users\\lukiu\\.venv\\lib\\site-packages (from google-auth<3,>=1.6.3->tensorboard<2.13,>=2.12->tensorflow-intel==2.12.0->tensorflow) (5.3.0)\n",
      "Requirement already satisfied: pyasn1-modules>=0.2.1 in c:\\users\\lukiu\\.venv\\lib\\site-packages (from google-auth<3,>=1.6.3->tensorboard<2.13,>=2.12->tensorflow-intel==2.12.0->tensorflow) (0.2.8)\n",
      "Requirement already satisfied: rsa<5,>=3.1.4 in c:\\users\\lukiu\\.venv\\lib\\site-packages (from google-auth<3,>=1.6.3->tensorboard<2.13,>=2.12->tensorflow-intel==2.12.0->tensorflow) (4.9)\n",
      "Requirement already satisfied: requests-oauthlib>=0.7.0 in c:\\users\\lukiu\\.venv\\lib\\site-packages (from google-auth-oauthlib<1.1,>=0.5->tensorboard<2.13,>=2.12->tensorflow-intel==2.12.0->tensorflow) (1.3.1)\n",
      "Requirement already satisfied: urllib3<1.27,>=1.21.1 in c:\\users\\lukiu\\.venv\\lib\\site-packages (from requests<3,>=2.21.0->tensorboard<2.13,>=2.12->tensorflow-intel==2.12.0->tensorflow) (1.26.9)\n",
      "Requirement already satisfied: certifi>=2017.4.17 in c:\\users\\lukiu\\.venv\\lib\\site-packages (from requests<3,>=2.21.0->tensorboard<2.13,>=2.12->tensorflow-intel==2.12.0->tensorflow) (2022.5.18.1)\n",
      "Requirement already satisfied: charset-normalizer~=2.0.0 in c:\\users\\lukiu\\.venv\\lib\\site-packages (from requests<3,>=2.21.0->tensorboard<2.13,>=2.12->tensorflow-intel==2.12.0->tensorflow) (2.0.12)\n",
      "Requirement already satisfied: idna<4,>=2.5 in c:\\users\\lukiu\\.venv\\lib\\site-packages (from requests<3,>=2.21.0->tensorboard<2.13,>=2.12->tensorflow-intel==2.12.0->tensorflow) (3.3)\n",
      "Requirement already satisfied: MarkupSafe>=2.1.1 in c:\\users\\lukiu\\.venv\\lib\\site-packages (from werkzeug>=1.0.1->tensorboard<2.13,>=2.12->tensorflow-intel==2.12.0->tensorflow) (2.1.2)\n",
      "Requirement already satisfied: pyasn1<0.5.0,>=0.4.6 in c:\\users\\lukiu\\.venv\\lib\\site-packages (from pyasn1-modules>=0.2.1->google-auth<3,>=1.6.3->tensorboard<2.13,>=2.12->tensorflow-intel==2.12.0->tensorflow) (0.4.8)\n",
      "Requirement already satisfied: oauthlib>=3.0.0 in c:\\users\\lukiu\\.venv\\lib\\site-packages (from requests-oauthlib>=0.7.0->google-auth-oauthlib<1.1,>=0.5->tensorboard<2.13,>=2.12->tensorflow-intel==2.12.0->tensorflow) (3.2.2)\n",
      "Note: you may need to restart the kernel to use updated packages.\n"
     ]
    }
   ],
   "source": [
    "pip install tensorflow"
   ]
  },
  {
   "cell_type": "markdown",
   "metadata": {},
   "source": [
    "### Importowanie wymaganych bibliotek"
   ]
  },
  {
   "cell_type": "code",
   "execution_count": 17,
   "metadata": {
    "id": "z4nn0PkVUlJp"
   },
   "outputs": [],
   "source": [
    "import tensorflow as tf \n",
    "from tensorflow import keras\n",
    "from tensorflow.keras.layers import Dense # głęboko połączona warstwa przekazująca neurony dalej (batch, size)\n",
    "from tensorflow.keras.layers import Flatten # \"spłaszcza\" dane wejściowe, przekształca w 1wymiarową tablicę; nie wpływa na wielkość partii\n",
    "from tensorflow.keras.layers import Input\n",
    "from tensorflow.keras.layers import BatchNormalization #warstwa normalizująca dane wejściowe\n",
    "from tensorflow.keras.layers import Dropout # odrzuca część losową informacji, gdy sieć wyciąga za dużo informacji\n",
    "from tensorflow.keras.layers import LSTM # warstwa pamięci długookresowej (sztuczna rekurencyjna architektura sieci neuronowej RNN)\n",
    "from tensorflow.keras.models import Model # grupuje warstwy w obiekt z funkacjami uczenia i wnioskowania\n",
    "from tensorflow.keras.models import Sequential, load_model # do zaczytywania i wczytywania modelu\n",
    "import matplotlib.pyplot as plt\n",
    "import seaborn as sns\n",
    "import pandas as pd\n",
    "import numpy as np\n",
    "from IPython.display import display # tworzymy obiekt audio \n",
    "import ipywidgets as widgets\n",
    "from ipywidgets import interact, interact_manual # automatyczne tworzenie kontrolek interfejsu użytkownika  (user interface UI)\n",
    "from ipywidgets import interactive\n",
    "\n",
    "from sklearn.model_selection import train_test_split # dzielenie tablic lub macierzy na losowe podzbioru trenowania i testowania.\n",
    "from sklearn.metrics import r2_score # R2- współczynnik determinacji; funkcja oceny regresji \n",
    "from sklearn.metrics import mean_absolute_error #MAE oraz MSE (błędy)\n",
    "from sklearn.metrics import mean_squared_error"
   ]
  },
  {
   "cell_type": "markdown",
   "metadata": {},
   "source": [
    "##### Import bibliotek do stworzenia sieci LSTM"
   ]
  },
  {
   "cell_type": "code",
   "execution_count": 18,
   "metadata": {},
   "outputs": [],
   "source": [
    "import math\n",
    "import keras\n",
    "from keras.models import Sequential\n",
    "from keras.layers import Dense\n",
    "from keras.layers import LSTM\n",
    "from keras.layers import Dropout\n",
    "from keras.layers import *\n",
    "from sklearn.preprocessing import MinMaxScaler # przekształcanie cech skalując każdą z cech do określonego zakresu\n",
    "from sklearn.metrics import mean_squared_error\n",
    "from sklearn.metrics import mean_absolute_error\n",
    "from keras.callbacks import EarlyStopping # przerywa trenowanie, gdy monitorowana metryka przestanie się poprawiać; \n",
    "                                          # estymator ten skaluje i tłumaczy każdą cechę indywidualnie tak, że znajduje się ona w zadanym zakresie na zbiorze uczącym (np. między 0 a 1)"
   ]
  },
  {
   "cell_type": "markdown",
   "metadata": {},
   "source": [
    "### Wczytanie bazy"
   ]
  },
  {
   "cell_type": "code",
   "execution_count": 19,
   "metadata": {
    "id": "xNXhr96tUzag"
   },
   "outputs": [],
   "source": [
    "# katalog z plikiem powinien się znajdować w tym samym folderze, co obecnie odpalony plik\n",
    "#data = pd.read_csv('/Users/luke/Documents/notowania/csv/jnj_us_d.csv')\n",
    "data = pd.read_csv('C:/Users/lukiu/Desktop/notowania/csv/jnj_us_d.csv')"
   ]
  },
  {
   "cell_type": "markdown",
   "metadata": {
    "id": "F28mhURdVfUZ"
   },
   "source": [
    "### Podzial na zbiór treningowy i testowy"
   ]
  },
  {
   "cell_type": "code",
   "execution_count": 20,
   "metadata": {},
   "outputs": [
    {
     "name": "stdout",
     "output_type": "stream",
     "text": [
      "(13418, 6)\n"
     ]
    }
   ],
   "source": [
    "# pierwsza liczba oznacza ilość wierszy, natomiast druga ilość kolumn w zbiorze danych\n",
    "print(data.shape)"
   ]
  },
  {
   "cell_type": "code",
   "execution_count": 21,
   "metadata": {
    "id": "tVIFFmksVtX7"
   },
   "outputs": [
    {
     "name": "stdout",
     "output_type": "stream",
     "text": [
      "(8050, 6)\n"
     ]
    }
   ],
   "source": [
    "# zbiór treningowy\n",
    "ratio = 0.6  # współczynnik proporcji wymiarów (0.6 w stosunku do całego zbioru danych)\n",
    "N = int(len(data)*ratio)   # liczba próbek na klasę\n",
    "train_df, test_df = data[:N], data[N:]   # przypisanie próbek do zmiennych\n",
    "print(train_df.shape)"
   ]
  },
  {
   "cell_type": "code",
   "execution_count": 22,
   "metadata": {
    "id": "b0jVcRkvWVDV"
   },
   "outputs": [
    {
     "name": "stdout",
     "output_type": "stream",
     "text": [
      "(5367, 6)\n"
     ]
    }
   ],
   "source": [
    "# zbiór testowy\n",
    "ratio = 0.4\n",
    "N = int(len(data)*ratio)\n",
    "test_df, val_df = test_df[:N], test_df[N:]\n",
    "print(test_df.shape)"
   ]
  },
  {
   "cell_type": "code",
   "execution_count": 23,
   "metadata": {
    "colab": {
     "base_uri": "https://localhost:8080/",
     "height": 284
    },
    "id": "yxOZAIQgWjaW",
    "outputId": "2035dbd2-676d-4d86-bb4d-a2b2b91cb9c1"
   },
   "outputs": [
    {
     "data": {
      "text/html": [
       "<div>\n",
       "<style scoped>\n",
       "    .dataframe tbody tr th:only-of-type {\n",
       "        vertical-align: middle;\n",
       "    }\n",
       "\n",
       "    .dataframe tbody tr th {\n",
       "        vertical-align: top;\n",
       "    }\n",
       "\n",
       "    .dataframe thead th {\n",
       "        text-align: right;\n",
       "    }\n",
       "</style>\n",
       "<table border=\"1\" class=\"dataframe\">\n",
       "  <thead>\n",
       "    <tr style=\"text-align: right;\">\n",
       "      <th></th>\n",
       "      <th>Otwarcie</th>\n",
       "      <th>Najwyzszy</th>\n",
       "      <th>Najnizszy</th>\n",
       "      <th>Zamkniecie</th>\n",
       "      <th>Wolumen</th>\n",
       "    </tr>\n",
       "  </thead>\n",
       "  <tbody>\n",
       "    <tr>\n",
       "      <th>count</th>\n",
       "      <td>8050.000000</td>\n",
       "      <td>8050.000000</td>\n",
       "      <td>8050.000000</td>\n",
       "      <td>8050.000000</td>\n",
       "      <td>8.050000e+03</td>\n",
       "    </tr>\n",
       "    <tr>\n",
       "      <th>mean</th>\n",
       "      <td>7.134299</td>\n",
       "      <td>7.210753</td>\n",
       "      <td>7.055696</td>\n",
       "      <td>7.138187</td>\n",
       "      <td>6.271724e+06</td>\n",
       "    </tr>\n",
       "    <tr>\n",
       "      <th>std</th>\n",
       "      <td>10.172603</td>\n",
       "      <td>10.285243</td>\n",
       "      <td>10.055938</td>\n",
       "      <td>10.179933</td>\n",
       "      <td>5.895566e+06</td>\n",
       "    </tr>\n",
       "    <tr>\n",
       "      <th>min</th>\n",
       "      <td>0.340169</td>\n",
       "      <td>0.347260</td>\n",
       "      <td>0.326077</td>\n",
       "      <td>0.333098</td>\n",
       "      <td>1.219074e+05</td>\n",
       "    </tr>\n",
       "    <tr>\n",
       "      <th>25%</th>\n",
       "      <td>0.836204</td>\n",
       "      <td>0.843362</td>\n",
       "      <td>0.830761</td>\n",
       "      <td>0.836204</td>\n",
       "      <td>2.451711e+06</td>\n",
       "    </tr>\n",
       "    <tr>\n",
       "      <th>50%</th>\n",
       "      <td>1.651120</td>\n",
       "      <td>1.669075</td>\n",
       "      <td>1.637200</td>\n",
       "      <td>1.654705</td>\n",
       "      <td>5.347883e+06</td>\n",
       "    </tr>\n",
       "    <tr>\n",
       "      <th>75%</th>\n",
       "      <td>7.462870</td>\n",
       "      <td>7.525170</td>\n",
       "      <td>7.377950</td>\n",
       "      <td>7.461082</td>\n",
       "      <td>8.314602e+06</td>\n",
       "    </tr>\n",
       "    <tr>\n",
       "      <th>max</th>\n",
       "      <td>42.700600</td>\n",
       "      <td>43.012500</td>\n",
       "      <td>42.297600</td>\n",
       "      <td>42.573100</td>\n",
       "      <td>2.041288e+08</td>\n",
       "    </tr>\n",
       "  </tbody>\n",
       "</table>\n",
       "</div>"
      ],
      "text/plain": [
       "          Otwarcie    Najwyzszy    Najnizszy   Zamkniecie       Wolumen\n",
       "count  8050.000000  8050.000000  8050.000000  8050.000000  8.050000e+03\n",
       "mean      7.134299     7.210753     7.055696     7.138187  6.271724e+06\n",
       "std      10.172603    10.285243    10.055938    10.179933  5.895566e+06\n",
       "min       0.340169     0.347260     0.326077     0.333098  1.219074e+05\n",
       "25%       0.836204     0.843362     0.830761     0.836204  2.451711e+06\n",
       "50%       1.651120     1.669075     1.637200     1.654705  5.347883e+06\n",
       "75%       7.462870     7.525170     7.377950     7.461082  8.314602e+06\n",
       "max      42.700600    43.012500    42.297600    42.573100  2.041288e+08"
      ]
     },
     "execution_count": 23,
     "metadata": {},
     "output_type": "execute_result"
    }
   ],
   "source": [
    "# funkcja oblicza podsumowanie statystyk odnoszących się do kolumny DataFrame. \n",
    "# ta funkcja podaje wartości średnie, standardowe i odstęp międzykwartylowy.\n",
    "train_df.describe()"
   ]
  },
  {
   "cell_type": "code",
   "execution_count": 24,
   "metadata": {
    "id": "HrtXH7VgWqsD"
   },
   "outputs": [],
   "source": [
    "# zapewnia obliczania w oknie kroczącym. \n",
    "# windows = rozmiar ruchomego okna, jest to liczba obserwacji użytych do obliczenia statystyki. \n",
    "# każde okno będzie miało stały rozmiar.\n",
    "rolling = data.rolling(window=7)"
   ]
  },
  {
   "cell_type": "code",
   "execution_count": 25,
   "metadata": {
    "id": "IaOjWnf3WuAB"
   },
   "outputs": [],
   "source": [
    "# definiujemy nasz y, który chcemy przewidzieć; trenujemy model tylko na \"Zamkniecie\"\n",
    "data_roll = pd.DataFrame()\n",
    "data_roll['Zamkniecie']=train_df['Zamkniecie']"
   ]
  },
  {
   "cell_type": "code",
   "execution_count": 26,
   "metadata": {},
   "outputs": [
    {
     "data": {
      "application/vnd.jupyter.widget-view+json": {
       "model_id": "51f6757085b345189cd37b4e46a5cc75",
       "version_major": 2,
       "version_minor": 0
      },
      "text/plain": [
       "interactive(children=(IntSlider(value=50, description='lw', min=1), Button(description='Run Interact', style=B…"
      ]
     },
     "metadata": {},
     "output_type": "display_data"
    }
   ],
   "source": [
    "@widgets.interact_manual(lw=(1, 100))  #wstawia suwak do ręcznego wywoływania funkcji. Nie ma potrzeby uruchamiać za każdym razem kod, gdy zmieniamy wartość. \n",
    "def plot(lw):\n",
    "  rolling = data.rolling(window=lw, center=True)\n",
    "  data_roll = pd.DataFrame()\n",
    " \n",
    "  data_roll['Zamkniecie']=data['Zamkniecie']\n",
    "  data_roll['7 days rolling_mean(srednia kroczaca)']=data_roll['Zamkniecie'].rolling(lw, min_periods=1).mean()\n",
    "  ax = data_roll.plot(style=['-', '--'], rot=90, figsize=(20, 10)) #odpowiada za rozmiar wykresu, oraz styl linii\n",
    "  ax.lines[0].set_alpha(0.3)   #zmienia przeźroczystość linii wskazującej \"Zamknięcie\"."
   ]
  },
  {
   "cell_type": "markdown",
   "metadata": {
    "id": "8eSGFce8W3jD"
   },
   "source": [
    "### Przygotowanie danych do uczenia na sieci LSTM (zmiana wymiarow macierzy, by model zaczal obrabiac dane)"
   ]
  },
  {
   "cell_type": "code",
   "execution_count": 27,
   "metadata": {
    "id": "e4v22vMBXlIn"
   },
   "outputs": [],
   "source": [
    "zmienna_przewidywana = \"Zamkniecie\"\n",
    "\n",
    "def prepare_dataset_to_lstm(zmienna_przewidywana, train_df, ratio):\n",
    "  dataset = train_df[zmienna_przewidywana].values #numpy.ndarray\n",
    "  dataset = dataset.astype('float32') #zamiana typu na float\n",
    "  dataset = np.reshape(dataset, (-1, 1)) #przekształcamy tablicę; wynikowa tablica ma tylko 1 kolumnę\n",
    "  scaler = MinMaxScaler(feature_range=(0, 1)) #skalowanie zmiennych do postaci (0,1)\n",
    "  dataset = scaler.fit_transform(dataset) # wszystkie inne wartości są liniowo skalowane między tymi wartościami\n",
    "\n",
    "#dzielimy uporządkowany zestaw danych do trenowania i testowania. Oblicza index punktu podziału i rozdziela dane na zestawy szkoleniowe z test. obserwacji, których można użyć do trenowania modelu, pozostawiając pozostałe do przetestowania\n",
    "  train_size = int(len(dataset) * ratio)\n",
    "  test_size = len(dataset) - train_size\n",
    "  train, test = dataset[0:train_size,:], dataset[train_size:len(dataset),:]\n",
    "\n",
    "  return train, test, scaler\n",
    "\n",
    "#uruchamiany tą funkcję z wyżej, przygotowanie modelu pod LSTM\n",
    "train, test, scaler = prepare_dataset_to_lstm(zmienna_przewidywana, train_df, ratio=0.8) #scaler - skaluje dane do zakresu 0, 1 (tak zwana normalizacja)"
   ]
  },
  {
   "cell_type": "code",
   "execution_count": 28,
   "metadata": {
    "id": "BPKKHxCWXpe1"
   },
   "outputs": [],
   "source": [
    "# look_back- liczba poprzednich kroków czasowych, które mają być użyte jako zmienne wejściowe do przewidywania następnego okresu czasu, w tym przypadku domyślnie 1.\n",
    "# scaler- skaluje dane do zakresu 0,1 (normalizacja)\n",
    "# tworzenie back(ów); konwertujemy tablicę wartości na macierz zestawu danych\n",
    "def create_dataset_lstm(dataset, look_back=1):   #look_back - wielkość kroku z którą testujemy dataset\n",
    "    X, Y = [], []\n",
    "    for i in range(len(dataset)-look_back-1): # żeby nie wyszło poza zasięg\n",
    "        a = dataset[i:(i+look_back), 0]\n",
    "        X.append(a)\n",
    "        Y.append(dataset[i + look_back, 0])\n",
    "    return np.array(X), np.array(Y)\n",
    "\n",
    "#używamy funkcji by przygotować zestaw i przetestować zestawy danych do modelowania.\n",
    "look_back = 20 #liczba probek ktora pobieramy, minimalnie jedna próbka, maksymalnie tyle, ile ma ciąg elementów\n",
    "X_train, Y_train = create_dataset_lstm(train, look_back)\n",
    "X_test, Y_test = create_dataset_lstm(test, look_back)\n",
    "\n",
    "#Zmienia kształt wejścia na próbki, kroki czasowe, cechy,\n",
    "X_train = np.reshape(X_train, (X_train.shape[0], 1, X_train.shape[1]))\n",
    "X_test = np.reshape(X_test, (X_test.shape[0], 1, X_test.shape[1]))"
   ]
  },
  {
   "cell_type": "markdown",
   "metadata": {
    "id": "lu0pQXiDZYM7"
   },
   "source": [
    "## Uczenie modelu"
   ]
  },
  {
   "cell_type": "code",
   "execution_count": 29,
   "metadata": {
    "id": "24NO3QG3Y7Pp"
   },
   "outputs": [],
   "source": [
    "#Tworzymy i dopasowujemy model LSTM (zmiana batch_size). W poniższym modelu jest jedno wejście w warstwie wejściowej\n",
    "# i 10 neuronów w warstwie ukrytej. Warstwa wyjściowa przewiduje wartości\n",
    "def lstm_model(X_train, Y_train, X_test, Y_test, batch_size=20):\n",
    "  model = Sequential()  #liniowy stos warstw\n",
    "  model.add(LSTM(20, input_shape=(X_train.shape[1], X_train.shape[2])))\n",
    "  model.add(Dropout(0.2)) \n",
    "  model.add(Dense(8))\n",
    "# definiujemy w czym będziemy wyrażać naszą jakość uczenia\n",
    "  model.compile(loss='mean_squared_error', optimizer='adam') #definiujemy w czym będziemy wyrażać naszą jakośc uczenia\n",
    "\n",
    "# epochs - Funkcja aktywacji powtarzana jest 5 razy\n",
    "  history = model.fit(X_train, Y_train, epochs=10, batch_size=10, validation_data=(X_test, Y_test), \n",
    "                      # przerwij trenowanie, gdy monitorowana metryka przestanie się poprawiać\n",
    "                      callbacks=[EarlyStopping(monitor='val_loss', patience=10)], verbose=1, shuffle=False)\n",
    "  return model\n",
    "\n"
   ]
  },
  {
   "cell_type": "markdown",
   "metadata": {},
   "source": [
    "## Ewaluacja modelu"
   ]
  },
  {
   "cell_type": "code",
   "execution_count": 30,
   "metadata": {
    "id": "7OKDU7BRZhqQ"
   },
   "outputs": [],
   "source": [
    "#ewaluacja modelu\n",
    "def evaluation_model(model,X_train, X_test, Y_train, testing=False):\n",
    "  dataset = train_df[zmienna_przewidywana].values #numpy.ndarray\n",
    "  dataset = dataset.astype('float32') #zamian typu na float\n",
    "  dataset = np.reshape(dataset, (-1, 1))  # zmienia shape na odwrotny (odwrócenie macierzy) nie w sposób ciągły (1 pod 2)\n",
    "  scaler = MinMaxScaler(feature_range=(0, 1))\n",
    "  dataset = scaler.fit_transform(dataset)\n",
    "  \n",
    "#wykonaj prognozy\n",
    "  train_predict = model.predict(X_train)\n",
    "  test_predict = model.predict(X_test)\n",
    "\n",
    "#odwróć prognozy, przy obliczaniu błędu przekonwertujemy dane na tą samą jednostkę.  \n",
    "  train_predict = scaler.inverse_transform(train_predict)\n",
    "  Y_train = scaler.inverse_transform([Y_train])\n",
    "\n",
    "#oblicz średni kwadrat błędu\n",
    "  _mean_absolute_error = mean_absolute_error(Y_train[0], train_predict[:,0])   #jak mamy listę 13 elementów, to wstawiając [3,:] pobierze od 3 do 13 elementu\n",
    "  _mean_squared_error = np.sqrt(mean_squared_error(Y_train[0], train_predict[:,0]))\n",
    "  print('Train Mean Absolute Error:', _mean_absolute_error)\n",
    "  print('Train Root Mean Squared Error:',_mean_squared_error)\n",
    "  if testing:\n",
    "    return Y_train, train_predict, _mean_absolute_error, _mean_squared_error\n",
    "  return Y_train, train_predict\n",
    "\n"
   ]
  },
  {
   "cell_type": "code",
   "execution_count": 31,
   "metadata": {
    "colab": {
     "base_uri": "https://localhost:8080/"
    },
    "id": "xiujQG_iduIb",
    "outputId": "e8ecb3e7-9e2c-42e0-d29d-2736de0eea21"
   },
   "outputs": [
    {
     "name": "stdout",
     "output_type": "stream",
     "text": [
      "(1, 2, (10, 20))\n",
      "1 2 (10, 20)\n"
     ]
    }
   ],
   "source": [
    "def a():\n",
    "    return 1, 2, (10, 20)\n",
    "\n",
    "x,y, error = a()\n",
    "print(a())\n",
    "print(x,y, error)\n",
    "\n",
    "# 1 to nasz x- Y_train, 2 nasz y- train_predict  a (10-_mean_absolute_error, 20- _mean_squared_error) nasze dołożone errory (patrz analogicznie linijkę wyżej)"
   ]
  },
  {
   "cell_type": "code",
   "execution_count": 32,
   "metadata": {
    "colab": {
     "base_uri": "https://localhost:8080/"
    },
    "id": "dgXynbpvZ_ZT",
    "outputId": "ec57cf4d-18cc-4236-f361-49e61e3a58e3"
   },
   "outputs": [
    {
     "name": "stdout",
     "output_type": "stream",
     "text": [
      "Epoch 1/10\n",
      "642/642 [==============================] - 3s 2ms/step - loss: 8.2485e-05 - val_loss: 0.1080\n",
      "Epoch 2/10\n",
      "642/642 [==============================] - 1s 2ms/step - loss: 5.4544e-04 - val_loss: 0.0743\n",
      "Epoch 3/10\n",
      "642/642 [==============================] - 1s 2ms/step - loss: 1.1600e-04 - val_loss: 0.0621\n",
      "Epoch 4/10\n",
      "642/642 [==============================] - 1s 2ms/step - loss: 8.0142e-05 - val_loss: 0.0943\n",
      "Epoch 5/10\n",
      "642/642 [==============================] - 1s 2ms/step - loss: 7.3480e-05 - val_loss: 0.0979\n",
      "Epoch 6/10\n",
      "642/642 [==============================] - 1s 2ms/step - loss: 7.4290e-05 - val_loss: 0.1188\n",
      "Epoch 7/10\n",
      "642/642 [==============================] - 1s 2ms/step - loss: 6.7142e-05 - val_loss: 0.1228\n",
      "Epoch 8/10\n",
      "642/642 [==============================] - 1s 2ms/step - loss: 7.2945e-05 - val_loss: 0.1318\n",
      "Epoch 9/10\n",
      "642/642 [==============================] - 1s 2ms/step - loss: 6.8250e-05 - val_loss: 0.1256\n",
      "Epoch 10/10\n",
      "642/642 [==============================] - 1s 2ms/step - loss: 6.1848e-05 - val_loss: 0.1290\n"
     ]
    }
   ],
   "source": [
    "#Model się uczy!\n",
    "history = lstm_model(X_train, Y_train, X_test, Y_test, batch_size=10)\n",
    "\n",
    "# loss to funkcja straty na zbiorze treningowym\n",
    "# val_loss to funkcja straty na zbiorze walidacyjnym (im mniejsza tym lepiej)\n",
    "\n",
    "# widzimy że z każdą kolejną epoką te dwa błędy są coraz mniejsze- zatem model dobrze się uczy. \n",
    "# im mniejsze błędy (bliższe 0- tym lepiej)"
   ]
  },
  {
   "cell_type": "code",
   "execution_count": 33,
   "metadata": {
    "colab": {
     "base_uri": "https://localhost:8080/"
    },
    "id": "bBRLWe2tal_k",
    "outputId": "070f9856-1d3e-4d33-d48d-04dcd7883e31"
   },
   "outputs": [
    {
     "name": "stdout",
     "output_type": "stream",
     "text": [
      "Saved model to disk\n"
     ]
    }
   ],
   "source": [
    "# zapisujemy model sieci neuronowej w formacie JSON\n",
    "model_json = history.to_json()  #zapisanie modelu history do JSON\n",
    "with open(\"model.json\", \"w\") as json_file:  #utwórz plik model.json w trybie edycji i zatrzymaj w zmiennej json_file\n",
    "    json_file.write(model_json)\n",
    "# zapisanie wagi z modelu za pomocą funkcji save.weights. \n",
    "history.save_weights(\"model.h5\")  #wagi są zapisywane w pliku model.h5 w katalogu lokalnym.\n",
    "print(\"Saved model to disk\")  #komentarz udanej operacji"
   ]
  },
  {
   "cell_type": "code",
   "execution_count": 34,
   "metadata": {
    "colab": {
     "base_uri": "https://localhost:8080/"
    },
    "id": "WfuK6w9caHN8",
    "outputId": "bc323c82-f312-43d0-904a-0d75540a2fe7"
   },
   "outputs": [
    {
     "name": "stdout",
     "output_type": "stream",
     "text": [
      "201/201 [==============================] - 0s 790us/step\n",
      "50/50 [==============================] - 0s 714us/step\n",
      "Train Mean Absolute Error: 1.2274889466039753\n",
      "Train Root Mean Squared Error: 1.2702782426813388\n"
     ]
    },
    {
     "data": {
      "text/plain": [
       "(array([[ 0.46784   ,  0.48895402,  0.48194199, ..., 11.6384003 ,\n",
       "         11.6384003 , 11.37560024]]),\n",
       " array([[ 1.3716916,  1.431776 ,  1.4114656, ...,  1.4425523,  1.4159409,\n",
       "          1.4028934],\n",
       "        [ 1.3645221,  1.4246614,  1.4040279, ...,  1.4351118,  1.4086828,\n",
       "          1.3958763],\n",
       "        [ 1.3616726,  1.4216052,  1.4009643, ...,  1.4321145,  1.4056151,\n",
       "          1.3927597],\n",
       "        ...,\n",
       "        [11.530562 , 11.510597 , 11.521338 , ..., 11.513979 , 11.543569 ,\n",
       "         11.535028 ],\n",
       "        [11.586095 , 11.565835 , 11.576487 , ..., 11.568939 , 11.599162 ,\n",
       "         11.588879 ],\n",
       "        [11.643544 , 11.6245165, 11.634746 , ..., 11.627376 , 11.658164 ,\n",
       "         11.64912  ]], dtype=float32))"
      ]
     },
     "execution_count": 34,
     "metadata": {},
     "output_type": "execute_result"
    }
   ],
   "source": [
    "\n",
    "evaluation_model(history,X_train, X_test, Y_train)"
   ]
  },
  {
   "cell_type": "code",
   "execution_count": 35,
   "metadata": {
    "colab": {
     "base_uri": "https://localhost:8080/"
    },
    "id": "JFznAylEdG8X",
    "outputId": "3bad9dad-673c-4318-84e6-7780371beeec"
   },
   "outputs": [
    {
     "name": "stdout",
     "output_type": "stream",
     "text": [
      "201/201 [==============================] - 0s 780us/step\n",
      "50/50 [==============================] - 0s 735us/step\n",
      "Train Mean Absolute Error: 1.2274889466039753\n",
      "Train Root Mean Squared Error: 1.2702782426813388\n"
     ]
    }
   ],
   "source": [
    "Y_train, train_predict = evaluation_model(history,X_train, X_test, Y_train)"
   ]
  },
  {
   "cell_type": "code",
   "execution_count": 36,
   "metadata": {
    "id": "VQ-5nMYZcgXv"
   },
   "outputs": [],
   "source": [
    "def visualization(Y_train, train_predict):\n",
    "  N = len(Y_train[0]) \n",
    "  aa=[x for x in range(N)]  # N oznacza liczbę cech w punkcie danych\n",
    "  plt.figure(figsize=(8,4))\n",
    "  plt.plot(aa, Y_train[0], marker='.', label=\"actual\") # gdy . zmienimy na * to będziemy mieli zamiast . -> *\n",
    "  plt.plot(aa, train_predict[:,0], 'r', label=\"prediction\")\n",
    "  # plt.tick_params(left=False, labelleft=True) #remove ticks\n",
    "  plt.tight_layout()  # dostosuj dopełnienie między polamy pomocniczymi i wokół nich\n",
    "  sns.despine(top=True) # usuwamy grzbiet\n",
    "  plt.subplots_adjust(left=0.07)  # położenie lewej krawędzi wykresu\n",
    "  plt.title(\" prediction\")\n",
    "  plt.xlabel('Time step', size=15)  # rozmiar czcionki dla time step 15\n",
    "  plt.legend(fontsize=15)  # rozmiar czcionki elementów legendy\n",
    "  plt.show();  # uruchamiamy pętle zdarzeń, wyszukujemy wszystkie aktywne obiekty figur i otwieramy jedno lub więcej inteaktywnych okien.\n",
    "\n"
   ]
  },
  {
   "cell_type": "code",
   "execution_count": 37,
   "metadata": {
    "colab": {
     "base_uri": "https://localhost:8080/",
     "height": 331
    },
    "id": "2QEN7oeKc4W-",
    "outputId": "a989d390-23a5-457e-b2fb-2b9fcbf02502"
   },
   "outputs": [
    {
     "data": {
      "image/png": "[encoded data removed]",
      "text/plain": [
       "<Figure size 800x400 with 1 Axes>"
      ]
     },
     "metadata": {},
     "output_type": "display_data"
    }
   ],
   "source": [
    "# Na wykresie dane nie są znormalizowane\n",
    "visualization(Y_train, train_predict) # niebieska- z csv wiersze i do nich wartości z pliku excel (na podstawie ratio nie cale 2849 tylko 0.6 z tego); czerwone- dla poszczegolnych wierszy błędy; model dobrze się uczy"
   ]
  },
  {
   "cell_type": "markdown",
   "metadata": {
    "id": "186VBDTrd3yn"
   },
   "source": [
    "## Zmieniamy wielkosc batch, by zobaczyc jaki wplyw ma ta zmienna na wyniki"
   ]
  },
  {
   "cell_type": "code",
   "execution_count": 38,
   "metadata": {
    "id": "0RAuJONqejpj"
   },
   "outputs": [
    {
     "name": "stdout",
     "output_type": "stream",
     "text": [
      "[[0.256501   0.25705734 0.25369322]\n",
      " [0.25705734 0.25369322 0.25441292]\n",
      " [0.25369322 0.25441292 0.24976802]\n",
      " ...\n",
      " [0.99138975 0.9824243  0.9929428 ]\n",
      " [0.9824243  0.9929428  1.0000001 ]\n",
      " [0.9929428  1.0000001  0.99628556]]\n"
     ]
    }
   ],
   "source": [
    "# <odswiezam dane>, gdyz wymiary danych testowych i treningowych przestaja sie zgadac\n",
    "train, test, scaler = prepare_dataset_to_lstm(zmienna_przewidywana, train_df, ratio=0.8)\n",
    "\n",
    "def create_dataset_lstm(dataset, look_back=1):\n",
    "    X, Y = [], []\n",
    "    for i in range(len(dataset)-look_back):\n",
    "        a = dataset[i:(i+look_back), 0]\n",
    "        X.append(a)\n",
    "        Y.append(dataset[i + look_back, 0])\n",
    "    return np.array(X), np.array(Y)\n",
    "    \n",
    "look_back = 3 #liczba probek ktora pobieramy, minimalnie jedna probka, maksymalnie tyle, ile ma ciag elementow\n",
    "X_train, Y_train = create_dataset_lstm(train, look_back)\n",
    "X_test, Y_test = create_dataset_lstm(test, look_back)\n",
    "print(X_test)\n",
    "\n",
    "# reshape input to be [samples, time steps, features]\n",
    "X_train = np.reshape(X_train, (X_train.shape[0], 1, X_train.shape[1]))\n",
    "X_test = np.reshape(X_test, (X_test.shape[0], 1, X_test.shape[1]))"
   ]
  },
  {
   "cell_type": "code",
   "execution_count": 39,
   "metadata": {
    "colab": {
     "base_uri": "https://localhost:8080/"
    },
    "id": "RB4mp_3neAns",
    "outputId": "ab46fbc9-e979-4b84-cb4e-8b84231039a7"
   },
   "outputs": [
    {
     "name": "stdout",
     "output_type": "stream",
     "text": [
      "-------------------------------30--------------------------\n",
      "Epoch 1/10\n",
      "644/644 [==============================] - 3s 2ms/step - loss: 6.9079e-05 - val_loss: 0.0910\n",
      "Epoch 2/10\n",
      "644/644 [==============================] - 1s 2ms/step - loss: 6.9289e-04 - val_loss: 0.0328\n",
      "Epoch 3/10\n",
      "644/644 [==============================] - 1s 2ms/step - loss: 2.2338e-04 - val_loss: 0.0095\n",
      "Epoch 4/10\n",
      "644/644 [==============================] - 1s 2ms/step - loss: 9.5438e-05 - val_loss: 0.0048\n",
      "Epoch 5/10\n",
      "644/644 [==============================] - 1s 2ms/step - loss: 6.2713e-05 - val_loss: 0.0015\n",
      "Epoch 6/10\n",
      "644/644 [==============================] - 1s 2ms/step - loss: 5.8759e-05 - val_loss: 0.0024\n",
      "Epoch 7/10\n",
      "644/644 [==============================] - 1s 2ms/step - loss: 5.4128e-05 - val_loss: 0.0044\n",
      "Epoch 8/10\n",
      "644/644 [==============================] - 1s 2ms/step - loss: 5.0573e-05 - val_loss: 0.0071\n",
      "Epoch 9/10\n",
      "644/644 [==============================] - 1s 2ms/step - loss: 6.5881e-05 - val_loss: 0.0069\n",
      "Epoch 10/10\n",
      "644/644 [==============================] - 1s 2ms/step - loss: 6.6412e-05 - val_loss: 0.0035\n",
      "202/202 [==============================] - 0s 821us/step\n",
      "51/51 [==============================] - 0s 740us/step\n",
      "Train Mean Absolute Error: 1.5780293368816691\n",
      "Train Root Mean Squared Error: 1.6317562698643688\n",
      "-------------------------------31--------------------------\n",
      "Epoch 1/10\n",
      "644/644 [==============================] - 3s 2ms/step - loss: 6.7587e-05 - val_loss: 0.0799\n",
      "Epoch 2/10\n",
      "644/644 [==============================] - 1s 2ms/step - loss: 6.4716e-04 - val_loss: 0.0240\n",
      "Epoch 3/10\n",
      "644/644 [==============================] - 1s 2ms/step - loss: 2.1333e-04 - val_loss: 0.0106\n",
      "Epoch 4/10\n",
      "644/644 [==============================] - 1s 2ms/step - loss: 9.1302e-05 - val_loss: 0.0053\n",
      "Epoch 5/10\n",
      "644/644 [==============================] - 1s 2ms/step - loss: 6.8803e-05 - val_loss: 0.0058\n",
      "Epoch 6/10\n",
      "644/644 [==============================] - 1s 2ms/step - loss: 6.0671e-05 - val_loss: 0.0057\n",
      "Epoch 7/10\n",
      "644/644 [==============================] - 1s 2ms/step - loss: 6.8854e-05 - val_loss: 0.0030\n",
      "Epoch 8/10\n",
      "644/644 [==============================] - 1s 2ms/step - loss: 5.4705e-05 - val_loss: 0.0022\n",
      "Epoch 9/10\n",
      "644/644 [==============================] - 1s 2ms/step - loss: 5.7126e-05 - val_loss: 0.0057\n",
      "Epoch 10/10\n",
      "644/644 [==============================] - 1s 2ms/step - loss: 5.7508e-05 - val_loss: 0.0104\n",
      "202/202 [==============================] - 0s 756us/step\n",
      "51/51 [==============================] - 0s 780us/step\n",
      "Train Mean Absolute Error: 1.4990442016511638\n",
      "Train Root Mean Squared Error: 1.601779453949555\n",
      "-------------------------------32--------------------------\n",
      "Epoch 1/10\n",
      "644/644 [==============================] - 3s 2ms/step - loss: 6.6365e-05 - val_loss: 0.0813\n",
      "Epoch 2/10\n",
      "644/644 [==============================] - 1s 2ms/step - loss: 6.9619e-04 - val_loss: 0.0191\n",
      "Epoch 3/10\n",
      "644/644 [==============================] - 1s 2ms/step - loss: 2.0038e-04 - val_loss: 0.0045\n",
      "Epoch 4/10\n",
      "644/644 [==============================] - 1s 2ms/step - loss: 8.2583e-05 - val_loss: 0.0021\n",
      "Epoch 5/10\n",
      "644/644 [==============================] - 1s 2ms/step - loss: 6.7767e-05 - val_loss: 0.0014\n",
      "Epoch 6/10\n",
      "644/644 [==============================] - 1s 2ms/step - loss: 5.9626e-05 - val_loss: 0.0026\n",
      "Epoch 7/10\n",
      "644/644 [==============================] - 1s 2ms/step - loss: 6.0044e-05 - val_loss: 0.0018\n",
      "Epoch 8/10\n",
      "644/644 [==============================] - 1s 2ms/step - loss: 5.7986e-05 - val_loss: 0.0050\n",
      "Epoch 9/10\n",
      "644/644 [==============================] - 1s 2ms/step - loss: 5.8238e-05 - val_loss: 0.0089\n",
      "Epoch 10/10\n",
      "644/644 [==============================] - 1s 2ms/step - loss: 7.5689e-05 - val_loss: 0.0034\n",
      "202/202 [==============================] - 0s 791us/step\n",
      "51/51 [==============================] - 0s 860us/step\n",
      "Train Mean Absolute Error: 1.553587934304998\n",
      "Train Root Mean Squared Error: 1.6270674208300064\n",
      "-------------------------------33--------------------------\n",
      "Epoch 1/10\n",
      "644/644 [==============================] - 3s 2ms/step - loss: 6.7754e-05 - val_loss: 0.0853\n",
      "Epoch 2/10\n",
      "644/644 [==============================] - 1s 2ms/step - loss: 6.9125e-04 - val_loss: 0.0253\n",
      "Epoch 3/10\n",
      "644/644 [==============================] - 1s 2ms/step - loss: 1.9795e-04 - val_loss: 0.0079\n",
      "Epoch 4/10\n",
      "644/644 [==============================] - 1s 2ms/step - loss: 8.5555e-05 - val_loss: 0.0032\n",
      "Epoch 5/10\n",
      "644/644 [==============================] - 1s 2ms/step - loss: 6.9960e-05 - val_loss: 0.0014\n",
      "Epoch 6/10\n",
      "644/644 [==============================] - 1s 2ms/step - loss: 5.6115e-05 - val_loss: 0.0031\n",
      "Epoch 7/10\n",
      "644/644 [==============================] - 1s 2ms/step - loss: 5.7314e-05 - val_loss: 0.0049\n",
      "Epoch 8/10\n",
      "644/644 [==============================] - 1s 2ms/step - loss: 5.8401e-05 - val_loss: 0.0041\n",
      "Epoch 9/10\n",
      "644/644 [==============================] - 1s 2ms/step - loss: 6.3021e-05 - val_loss: 0.0034\n",
      "Epoch 10/10\n",
      "644/644 [==============================] - 1s 2ms/step - loss: 5.7895e-05 - val_loss: 0.0045\n",
      "202/202 [==============================] - 0s 771us/step\n",
      "51/51 [==============================] - 0s 860us/step\n",
      "Train Mean Absolute Error: 1.3861638516030852\n",
      "Train Root Mean Squared Error: 1.457162545249997\n",
      "-------------------------------34--------------------------\n",
      "Epoch 1/10\n",
      "644/644 [==============================] - 3s 2ms/step - loss: 6.8176e-05 - val_loss: 0.0940\n",
      "Epoch 2/10\n",
      "644/644 [==============================] - 1s 2ms/step - loss: 7.5523e-04 - val_loss: 0.0294\n",
      "Epoch 3/10\n",
      "644/644 [==============================] - 1s 2ms/step - loss: 2.6516e-04 - val_loss: 0.0065\n",
      "Epoch 4/10\n",
      "644/644 [==============================] - 1s 2ms/step - loss: 9.1106e-05 - val_loss: 0.0037\n",
      "Epoch 5/10\n",
      "644/644 [==============================] - 1s 2ms/step - loss: 6.6366e-05 - val_loss: 0.0032\n",
      "Epoch 6/10\n",
      "644/644 [==============================] - 1s 2ms/step - loss: 5.9456e-05 - val_loss: 0.0040\n",
      "Epoch 7/10\n",
      "644/644 [==============================] - 1s 2ms/step - loss: 5.8273e-05 - val_loss: 0.0069\n",
      "Epoch 8/10\n",
      "644/644 [==============================] - 1s 2ms/step - loss: 6.8916e-05 - val_loss: 0.0044\n",
      "Epoch 9/10\n",
      "644/644 [==============================] - 1s 2ms/step - loss: 6.1851e-05 - val_loss: 0.0065\n",
      "Epoch 10/10\n",
      "644/644 [==============================] - 1s 2ms/step - loss: 5.7067e-05 - val_loss: 0.0063\n",
      "202/202 [==============================] - 0s 761us/step\n",
      "51/51 [==============================] - 0s 780us/step\n",
      "Train Mean Absolute Error: 1.4119790043762255\n",
      "Train Root Mean Squared Error: 1.4938349293564184\n",
      "-------------------------------35--------------------------\n",
      "Epoch 1/10\n",
      "644/644 [==============================] - 3s 2ms/step - loss: 6.9796e-05 - val_loss: 0.0993\n",
      "Epoch 2/10\n",
      "644/644 [==============================] - 1s 2ms/step - loss: 8.0040e-04 - val_loss: 0.0286\n",
      "Epoch 3/10\n",
      "644/644 [==============================] - 1s 2ms/step - loss: 2.3219e-04 - val_loss: 0.0060\n",
      "Epoch 4/10\n",
      "644/644 [==============================] - 1s 2ms/step - loss: 8.5991e-05 - val_loss: 0.0038\n",
      "Epoch 5/10\n",
      "644/644 [==============================] - 1s 2ms/step - loss: 6.4946e-05 - val_loss: 0.0031\n",
      "Epoch 6/10\n",
      "644/644 [==============================] - 1s 2ms/step - loss: 6.7689e-05 - val_loss: 0.0026\n",
      "Epoch 7/10\n",
      "644/644 [==============================] - 1s 2ms/step - loss: 5.7332e-05 - val_loss: 0.0018\n",
      "Epoch 8/10\n",
      "644/644 [==============================] - 1s 2ms/step - loss: 5.4285e-05 - val_loss: 0.0079\n",
      "Epoch 9/10\n",
      "644/644 [==============================] - 1s 2ms/step - loss: 5.9653e-05 - val_loss: 0.0111\n",
      "Epoch 10/10\n",
      "644/644 [==============================] - 1s 2ms/step - loss: 6.7602e-05 - val_loss: 0.0088\n",
      "202/202 [==============================] - 0s 746us/step\n",
      "51/51 [==============================] - 0s 780us/step\n",
      "Train Mean Absolute Error: 1.590723824255413\n",
      "Train Root Mean Squared Error: 1.671545568531322\n",
      "-------------------------------36--------------------------\n",
      "Epoch 1/10\n",
      "644/644 [==============================] - 3s 2ms/step - loss: 6.5485e-05 - val_loss: 0.0826\n",
      "Epoch 2/10\n",
      "644/644 [==============================] - 1s 2ms/step - loss: 6.4111e-04 - val_loss: 0.0261\n",
      "Epoch 3/10\n",
      "644/644 [==============================] - 1s 2ms/step - loss: 1.8088e-04 - val_loss: 0.0089\n",
      "Epoch 4/10\n",
      "644/644 [==============================] - 1s 2ms/step - loss: 8.5101e-05 - val_loss: 0.0033\n",
      "Epoch 5/10\n",
      "644/644 [==============================] - 1s 2ms/step - loss: 6.6762e-05 - val_loss: 0.0028\n",
      "Epoch 6/10\n",
      "644/644 [==============================] - 1s 2ms/step - loss: 5.4969e-05 - val_loss: 0.0082\n",
      "Epoch 7/10\n",
      "644/644 [==============================] - 1s 2ms/step - loss: 6.2157e-05 - val_loss: 0.0052\n",
      "Epoch 8/10\n",
      "644/644 [==============================] - 1s 2ms/step - loss: 5.9365e-05 - val_loss: 0.0043\n",
      "Epoch 9/10\n",
      "644/644 [==============================] - 1s 2ms/step - loss: 6.0395e-05 - val_loss: 0.0067\n",
      "Epoch 10/10\n",
      "644/644 [==============================] - 1s 2ms/step - loss: 6.3355e-05 - val_loss: 0.0086\n",
      "202/202 [==============================] - 0s 766us/step\n",
      "51/51 [==============================] - 0s 800us/step\n",
      "Train Mean Absolute Error: 1.4374661186011712\n",
      "Train Root Mean Squared Error: 1.516745961240589\n",
      "-------------------------------37--------------------------\n",
      "Epoch 1/10\n",
      "644/644 [==============================] - 3s 2ms/step - loss: 6.5515e-05 - val_loss: 0.0741\n",
      "Epoch 2/10\n",
      "644/644 [==============================] - 1s 2ms/step - loss: 5.9985e-04 - val_loss: 0.0200\n",
      "Epoch 3/10\n",
      "644/644 [==============================] - 1s 2ms/step - loss: 1.7208e-04 - val_loss: 0.0054\n",
      "Epoch 4/10\n",
      "644/644 [==============================] - 1s 2ms/step - loss: 8.2949e-05 - val_loss: 0.0034\n",
      "Epoch 5/10\n",
      "644/644 [==============================] - 1s 2ms/step - loss: 6.3481e-05 - val_loss: 0.0015\n",
      "Epoch 6/10\n",
      "644/644 [==============================] - 1s 2ms/step - loss: 5.7766e-05 - val_loss: 0.0045\n",
      "Epoch 7/10\n",
      "644/644 [==============================] - 1s 2ms/step - loss: 6.1930e-05 - val_loss: 0.0044\n",
      "Epoch 8/10\n",
      "644/644 [==============================] - 1s 2ms/step - loss: 5.9753e-05 - val_loss: 0.0059\n",
      "Epoch 9/10\n",
      "644/644 [==============================] - 1s 2ms/step - loss: 6.5167e-05 - val_loss: 0.0040\n",
      "Epoch 10/10\n",
      "644/644 [==============================] - 1s 2ms/step - loss: 5.6221e-05 - val_loss: 0.0037\n",
      "202/202 [==============================] - 1s 796us/step\n",
      "51/51 [==============================] - 0s 820us/step\n",
      "Train Mean Absolute Error: 1.5133298192267426\n",
      "Train Root Mean Squared Error: 1.5804657805202476\n",
      "-------------------------------38--------------------------\n",
      "Epoch 1/10\n",
      "644/644 [==============================] - 3s 2ms/step - loss: 7.0364e-05 - val_loss: 0.0886\n",
      "Epoch 2/10\n",
      "644/644 [==============================] - 1s 2ms/step - loss: 7.2262e-04 - val_loss: 0.0278\n",
      "Epoch 3/10\n",
      "644/644 [==============================] - 1s 2ms/step - loss: 2.2662e-04 - val_loss: 0.0055\n",
      "Epoch 4/10\n",
      "644/644 [==============================] - 1s 2ms/step - loss: 8.5445e-05 - val_loss: 0.0034\n",
      "Epoch 5/10\n",
      "644/644 [==============================] - 1s 2ms/step - loss: 6.1176e-05 - val_loss: 0.0035\n",
      "Epoch 6/10\n",
      "644/644 [==============================] - 1s 2ms/step - loss: 6.0272e-05 - val_loss: 0.0017\n",
      "Epoch 7/10\n",
      "644/644 [==============================] - 1s 2ms/step - loss: 5.6540e-05 - val_loss: 0.0035\n",
      "Epoch 8/10\n",
      "644/644 [==============================] - 1s 2ms/step - loss: 5.5419e-05 - val_loss: 0.0058\n",
      "Epoch 9/10\n",
      "644/644 [==============================] - 1s 2ms/step - loss: 6.0675e-05 - val_loss: 0.0063\n",
      "Epoch 10/10\n",
      "644/644 [==============================] - 1s 2ms/step - loss: 6.4148e-05 - val_loss: 0.0044\n",
      "202/202 [==============================] - 0s 766us/step\n",
      "51/51 [==============================] - 0s 820us/step\n",
      "Train Mean Absolute Error: 1.5218995386147318\n",
      "Train Root Mean Squared Error: 1.593210982284078\n",
      "-------------------------------39--------------------------\n",
      "Epoch 1/10\n",
      "644/644 [==============================] - 3s 2ms/step - loss: 7.2831e-05 - val_loss: 0.0920\n",
      "Epoch 2/10\n",
      "644/644 [==============================] - 1s 2ms/step - loss: 6.9370e-04 - val_loss: 0.0306\n",
      "Epoch 3/10\n",
      "644/644 [==============================] - 1s 2ms/step - loss: 2.1696e-04 - val_loss: 0.0126\n",
      "Epoch 4/10\n",
      "644/644 [==============================] - 1s 2ms/step - loss: 9.2746e-05 - val_loss: 0.0075\n",
      "Epoch 5/10\n",
      "644/644 [==============================] - 1s 2ms/step - loss: 6.9332e-05 - val_loss: 0.0095\n",
      "Epoch 6/10\n",
      "644/644 [==============================] - 1s 2ms/step - loss: 6.6955e-05 - val_loss: 0.0110\n",
      "Epoch 7/10\n",
      "644/644 [==============================] - 1s 2ms/step - loss: 6.9754e-05 - val_loss: 0.0118\n",
      "Epoch 8/10\n",
      "644/644 [==============================] - 1s 2ms/step - loss: 6.2363e-05 - val_loss: 0.0150\n",
      "Epoch 9/10\n",
      "644/644 [==============================] - 1s 2ms/step - loss: 6.6785e-05 - val_loss: 0.0076\n",
      "Epoch 10/10\n",
      "644/644 [==============================] - 1s 2ms/step - loss: 5.9137e-05 - val_loss: 0.0087\n",
      "202/202 [==============================] - 0s 746us/step\n",
      "51/51 [==============================] - 0s 740us/step\n",
      "Train Mean Absolute Error: 1.4094604559664006\n",
      "Train Root Mean Squared Error: 1.4701596159087975\n",
      "-------------------------------30--------------------------\n",
      "Epoch 1/10\n",
      "643/643 [==============================] - 2s 2ms/step - loss: 7.4555e-05 - val_loss: 0.0823\n",
      "Epoch 2/10\n",
      "643/643 [==============================] - 1s 1ms/step - loss: 5.2630e-04 - val_loss: 0.0325\n",
      "Epoch 3/10\n",
      "643/643 [==============================] - 1s 1ms/step - loss: 1.3281e-04 - val_loss: 0.0130\n",
      "Epoch 4/10\n",
      "643/643 [==============================] - 1s 1ms/step - loss: 7.0005e-05 - val_loss: 0.0207\n",
      "Epoch 5/10\n",
      "643/643 [==============================] - 1s 1ms/step - loss: 6.1108e-05 - val_loss: 0.0147\n",
      "Epoch 6/10\n",
      "643/643 [==============================] - 1s 1ms/step - loss: 5.7228e-05 - val_loss: 0.0179\n",
      "Epoch 7/10\n",
      "643/643 [==============================] - 1s 1ms/step - loss: 5.9105e-05 - val_loss: 0.0233\n",
      "Epoch 8/10\n",
      "643/643 [==============================] - 1s 1ms/step - loss: 5.5722e-05 - val_loss: 0.0315\n",
      "Epoch 9/10\n",
      "643/643 [==============================] - 1s 1ms/step - loss: 6.9431e-05 - val_loss: 0.0340\n",
      "Epoch 10/10\n",
      "643/643 [==============================] - 1s 1ms/step - loss: 6.6994e-05 - val_loss: 0.0206\n",
      "201/201 [==============================] - 0s 785us/step\n",
      "50/50 [==============================] - 0s 857us/step\n",
      "Train Mean Absolute Error: 1.386395066417459\n",
      "Train Root Mean Squared Error: 1.4036943097637644\n",
      "-------------------------------31--------------------------\n",
      "Epoch 1/10\n",
      "643/643 [==============================] - 3s 2ms/step - loss: 7.3645e-05 - val_loss: 0.0803\n",
      "Epoch 2/10\n",
      "643/643 [==============================] - 1s 1ms/step - loss: 5.4886e-04 - val_loss: 0.0355\n",
      "Epoch 3/10\n",
      "643/643 [==============================] - 1s 1ms/step - loss: 1.1082e-04 - val_loss: 0.0260\n",
      "Epoch 4/10\n",
      "643/643 [==============================] - 1s 1ms/step - loss: 6.6796e-05 - val_loss: 0.0305\n",
      "Epoch 5/10\n",
      "643/643 [==============================] - 1s 1ms/step - loss: 6.5253e-05 - val_loss: 0.0294\n",
      "Epoch 6/10\n",
      "643/643 [==============================] - 1s 1ms/step - loss: 6.1494e-05 - val_loss: 0.0336\n",
      "Epoch 7/10\n",
      "643/643 [==============================] - 1s 1ms/step - loss: 6.0721e-05 - val_loss: 0.0373\n",
      "Epoch 8/10\n",
      "643/643 [==============================] - 1s 1ms/step - loss: 6.6642e-05 - val_loss: 0.0394\n",
      "Epoch 9/10\n",
      "643/643 [==============================] - 1s 1ms/step - loss: 5.9591e-05 - val_loss: 0.0447\n",
      "Epoch 10/10\n",
      "643/643 [==============================] - 1s 1ms/step - loss: 7.2605e-05 - val_loss: 0.0354\n",
      "201/201 [==============================] - 0s 755us/step\n",
      "50/50 [==============================] - 0s 837us/step\n",
      "Train Mean Absolute Error: 1.272261989322562\n",
      "Train Root Mean Squared Error: 1.2820586834485928\n",
      "-------------------------------32--------------------------\n",
      "Epoch 1/10\n",
      "643/643 [==============================] - 2s 2ms/step - loss: 7.7229e-05 - val_loss: 0.0705\n",
      "Epoch 2/10\n",
      "643/643 [==============================] - 1s 1ms/step - loss: 4.7746e-04 - val_loss: 0.0299\n",
      "Epoch 3/10\n",
      "643/643 [==============================] - 1s 1ms/step - loss: 1.1967e-04 - val_loss: 0.0146\n",
      "Epoch 4/10\n",
      "643/643 [==============================] - 1s 1ms/step - loss: 7.6977e-05 - val_loss: 0.0133\n",
      "Epoch 5/10\n",
      "643/643 [==============================] - 1s 1ms/step - loss: 5.8816e-05 - val_loss: 0.0284\n",
      "Epoch 6/10\n",
      "643/643 [==============================] - 1s 1ms/step - loss: 5.8006e-05 - val_loss: 0.0337\n",
      "Epoch 7/10\n",
      "643/643 [==============================] - 1s 1ms/step - loss: 6.2577e-05 - val_loss: 0.0324\n",
      "Epoch 8/10\n",
      "643/643 [==============================] - 1s 1ms/step - loss: 6.5819e-05 - val_loss: 0.0352\n",
      "Epoch 9/10\n",
      "643/643 [==============================] - 1s 1ms/step - loss: 6.2989e-05 - val_loss: 0.0399\n",
      "Epoch 10/10\n",
      "643/643 [==============================] - 1s 1ms/step - loss: 6.6956e-05 - val_loss: 0.0494\n",
      "201/201 [==============================] - 0s 755us/step\n",
      "50/50 [==============================] - 0s 816us/step\n",
      "Train Mean Absolute Error: 1.4028418015597748\n",
      "Train Root Mean Squared Error: 1.444247751848513\n",
      "-------------------------------33--------------------------\n",
      "Epoch 1/10\n",
      "643/643 [==============================] - 2s 2ms/step - loss: 7.5998e-05 - val_loss: 0.0790\n",
      "Epoch 2/10\n",
      "643/643 [==============================] - 1s 1ms/step - loss: 5.2120e-04 - val_loss: 0.0283\n",
      "Epoch 3/10\n",
      "643/643 [==============================] - 1s 1ms/step - loss: 1.0525e-04 - val_loss: 0.0176\n",
      "Epoch 4/10\n",
      "643/643 [==============================] - 1s 1ms/step - loss: 7.1154e-05 - val_loss: 0.0287\n",
      "Epoch 5/10\n",
      "643/643 [==============================] - 1s 1ms/step - loss: 6.4434e-05 - val_loss: 0.0242\n",
      "Epoch 6/10\n",
      "643/643 [==============================] - 1s 1ms/step - loss: 6.0108e-05 - val_loss: 0.0414\n",
      "Epoch 7/10\n",
      "643/643 [==============================] - 1s 1ms/step - loss: 6.5442e-05 - val_loss: 0.0472\n",
      "Epoch 8/10\n",
      "643/643 [==============================] - 1s 1ms/step - loss: 8.0475e-05 - val_loss: 0.0340\n",
      "Epoch 9/10\n",
      "643/643 [==============================] - 1s 1ms/step - loss: 5.5937e-05 - val_loss: 0.0537\n",
      "Epoch 10/10\n",
      "643/643 [==============================] - 1s 1ms/step - loss: 6.6894e-05 - val_loss: 0.0409\n",
      "201/201 [==============================] - 0s 770us/step\n",
      "50/50 [==============================] - 0s 816us/step\n",
      "Train Mean Absolute Error: 1.2623463671052468\n",
      "Train Root Mean Squared Error: 1.2787279278665926\n",
      "-------------------------------34--------------------------\n",
      "Epoch 1/10\n",
      "643/643 [==============================] - 2s 2ms/step - loss: 7.3273e-05 - val_loss: 0.0818\n",
      "Epoch 2/10\n",
      "643/643 [==============================] - 1s 1ms/step - loss: 4.8401e-04 - val_loss: 0.0306\n",
      "Epoch 3/10\n",
      "643/643 [==============================] - 1s 1ms/step - loss: 9.9528e-05 - val_loss: 0.0214\n",
      "Epoch 4/10\n",
      "643/643 [==============================] - 1s 1ms/step - loss: 6.5003e-05 - val_loss: 0.0292\n",
      "Epoch 5/10\n",
      "643/643 [==============================] - 1s 1ms/step - loss: 6.4897e-05 - val_loss: 0.0318\n",
      "Epoch 6/10\n",
      "643/643 [==============================] - 1s 1ms/step - loss: 5.6082e-05 - val_loss: 0.0368\n",
      "Epoch 7/10\n",
      "643/643 [==============================] - 1s 1ms/step - loss: 5.6683e-05 - val_loss: 0.0424\n",
      "Epoch 8/10\n",
      "643/643 [==============================] - 1s 1ms/step - loss: 6.3403e-05 - val_loss: 0.0485\n",
      "Epoch 9/10\n",
      "643/643 [==============================] - 1s 1ms/step - loss: 7.0270e-05 - val_loss: 0.0343\n",
      "Epoch 10/10\n",
      "643/643 [==============================] - 1s 1ms/step - loss: 5.5403e-05 - val_loss: 0.0527\n",
      "201/201 [==============================] - 0s 765us/step\n",
      "50/50 [==============================] - 0s 857us/step\n",
      "Train Mean Absolute Error: 1.4977562481633035\n",
      "Train Root Mean Squared Error: 1.5280374306699023\n",
      "-------------------------------35--------------------------\n",
      "Epoch 1/10\n",
      "643/643 [==============================] - 3s 2ms/step - loss: 7.3070e-05 - val_loss: 0.0822\n",
      "Epoch 2/10\n",
      "643/643 [==============================] - 1s 1ms/step - loss: 5.1374e-04 - val_loss: 0.0314\n",
      "Epoch 3/10\n",
      "643/643 [==============================] - 1s 1ms/step - loss: 1.0787e-04 - val_loss: 0.0213\n",
      "Epoch 4/10\n",
      "643/643 [==============================] - 1s 1ms/step - loss: 7.7575e-05 - val_loss: 0.0311\n",
      "Epoch 5/10\n",
      "643/643 [==============================] - 1s 1ms/step - loss: 6.3565e-05 - val_loss: 0.0350\n",
      "Epoch 6/10\n",
      "643/643 [==============================] - 1s 1ms/step - loss: 7.0508e-05 - val_loss: 0.0315\n",
      "Epoch 7/10\n",
      "643/643 [==============================] - 1s 1ms/step - loss: 5.8155e-05 - val_loss: 0.0500\n",
      "Epoch 8/10\n",
      "643/643 [==============================] - 1s 1ms/step - loss: 7.1550e-05 - val_loss: 0.0363\n",
      "Epoch 9/10\n",
      "643/643 [==============================] - 1s 1ms/step - loss: 6.1055e-05 - val_loss: 0.0408\n",
      "Epoch 10/10\n",
      "643/643 [==============================] - 1s 1ms/step - loss: 5.4817e-05 - val_loss: 0.0470\n",
      "201/201 [==============================] - 0s 755us/step\n",
      "50/50 [==============================] - 0s 796us/step\n",
      "Train Mean Absolute Error: 1.7944505989434327\n",
      "Train Root Mean Squared Error: 1.8242527729129405\n",
      "-------------------------------36--------------------------\n",
      "Epoch 1/10\n",
      "643/643 [==============================] - 2s 2ms/step - loss: 7.6440e-05 - val_loss: 0.0731\n",
      "Epoch 2/10\n",
      "643/643 [==============================] - 1s 1ms/step - loss: 6.3034e-04 - val_loss: 0.0207\n",
      "Epoch 3/10\n",
      "643/643 [==============================] - 1s 1ms/step - loss: 1.2228e-04 - val_loss: 0.0093\n",
      "Epoch 4/10\n",
      "643/643 [==============================] - 1s 1ms/step - loss: 6.8066e-05 - val_loss: 0.0186\n",
      "Epoch 5/10\n",
      "643/643 [==============================] - 1s 1ms/step - loss: 6.5565e-05 - val_loss: 0.0166\n",
      "Epoch 6/10\n",
      "643/643 [==============================] - 1s 1ms/step - loss: 5.8486e-05 - val_loss: 0.0278\n",
      "Epoch 7/10\n",
      "643/643 [==============================] - 1s 1ms/step - loss: 6.4421e-05 - val_loss: 0.0347\n",
      "Epoch 8/10\n",
      "643/643 [==============================] - 1s 1ms/step - loss: 7.0212e-05 - val_loss: 0.0375\n",
      "Epoch 9/10\n",
      "643/643 [==============================] - 1s 1ms/step - loss: 7.3725e-05 - val_loss: 0.0402\n",
      "Epoch 10/10\n",
      "643/643 [==============================] - 1s 1ms/step - loss: 6.2896e-05 - val_loss: 0.0458\n",
      "201/201 [==============================] - 0s 755us/step\n",
      "50/50 [==============================] - 0s 837us/step\n",
      "Train Mean Absolute Error: 1.6686247291087395\n",
      "Train Root Mean Squared Error: 1.6980122955028096\n",
      "-------------------------------37--------------------------\n",
      "Epoch 1/10\n",
      "643/643 [==============================] - 2s 2ms/step - loss: 7.2430e-05 - val_loss: 0.0819\n",
      "Epoch 2/10\n",
      "643/643 [==============================] - 1s 1ms/step - loss: 5.6991e-04 - val_loss: 0.0364\n",
      "Epoch 3/10\n",
      "643/643 [==============================] - 1s 1ms/step - loss: 1.2121e-04 - val_loss: 0.0274\n",
      "Epoch 4/10\n",
      "643/643 [==============================] - 1s 1ms/step - loss: 6.9923e-05 - val_loss: 0.0289\n",
      "Epoch 5/10\n",
      "643/643 [==============================] - 1s 1ms/step - loss: 6.5016e-05 - val_loss: 0.0296\n",
      "Epoch 6/10\n",
      "643/643 [==============================] - 1s 1ms/step - loss: 7.2468e-05 - val_loss: 0.0394\n",
      "Epoch 7/10\n",
      "643/643 [==============================] - 1s 1ms/step - loss: 6.9047e-05 - val_loss: 0.0494\n",
      "Epoch 8/10\n",
      "643/643 [==============================] - 1s 1ms/step - loss: 6.6327e-05 - val_loss: 0.0491\n",
      "Epoch 9/10\n",
      "643/643 [==============================] - 1s 1ms/step - loss: 5.6780e-05 - val_loss: 0.0536\n",
      "Epoch 10/10\n",
      "643/643 [==============================] - 1s 1ms/step - loss: 6.5441e-05 - val_loss: 0.0515\n",
      "201/201 [==============================] - 0s 770us/step\n",
      "50/50 [==============================] - 0s 857us/step\n",
      "Train Mean Absolute Error: 1.0573641341609454\n",
      "Train Root Mean Squared Error: 1.0822589942827558\n",
      "-------------------------------38--------------------------\n",
      "Epoch 1/10\n",
      "643/643 [==============================] - 2s 2ms/step - loss: 7.2946e-05 - val_loss: 0.0798\n",
      "Epoch 2/10\n",
      "643/643 [==============================] - 1s 1ms/step - loss: 5.7476e-04 - val_loss: 0.0419\n",
      "Epoch 3/10\n",
      "643/643 [==============================] - 1s 1ms/step - loss: 1.1979e-04 - val_loss: 0.0235\n",
      "Epoch 4/10\n",
      "643/643 [==============================] - 1s 1ms/step - loss: 7.5272e-05 - val_loss: 0.0246\n",
      "Epoch 5/10\n",
      "643/643 [==============================] - 1s 1ms/step - loss: 5.9882e-05 - val_loss: 0.0328\n",
      "Epoch 6/10\n",
      "643/643 [==============================] - 1s 1ms/step - loss: 6.9152e-05 - val_loss: 0.0272\n",
      "Epoch 7/10\n",
      "643/643 [==============================] - 1s 1ms/step - loss: 5.6973e-05 - val_loss: 0.0354\n",
      "Epoch 8/10\n",
      "643/643 [==============================] - 1s 1ms/step - loss: 6.0619e-05 - val_loss: 0.0328\n",
      "Epoch 9/10\n",
      "643/643 [==============================] - 1s 1ms/step - loss: 6.1628e-05 - val_loss: 0.0281\n",
      "Epoch 10/10\n",
      "643/643 [==============================] - 1s 1ms/step - loss: 6.2019e-05 - val_loss: 0.0332\n",
      "201/201 [==============================] - 0s 745us/step\n",
      "50/50 [==============================] - 0s 816us/step\n",
      "Train Mean Absolute Error: 1.2460050624531636\n",
      "Train Root Mean Squared Error: 1.2671454282290393\n",
      "-------------------------------39--------------------------\n",
      "Epoch 1/10\n",
      "643/643 [==============================] - 3s 2ms/step - loss: 7.7467e-05 - val_loss: 0.0641\n",
      "Epoch 2/10\n",
      "643/643 [==============================] - 1s 1ms/step - loss: 5.4208e-04 - val_loss: 0.0155\n",
      "Epoch 3/10\n",
      "643/643 [==============================] - 1s 1ms/step - loss: 1.2611e-04 - val_loss: 0.0115\n",
      "Epoch 4/10\n",
      "643/643 [==============================] - 1s 1ms/step - loss: 7.6414e-05 - val_loss: 0.0170\n",
      "Epoch 5/10\n",
      "643/643 [==============================] - 1s 1ms/step - loss: 6.1634e-05 - val_loss: 0.0295\n",
      "Epoch 6/10\n",
      "643/643 [==============================] - 1s 1ms/step - loss: 7.3536e-05 - val_loss: 0.0278\n",
      "Epoch 7/10\n",
      "643/643 [==============================] - 1s 1ms/step - loss: 6.9899e-05 - val_loss: 0.0200\n",
      "Epoch 8/10\n",
      "643/643 [==============================] - 1s 1ms/step - loss: 5.2373e-05 - val_loss: 0.0302\n",
      "Epoch 9/10\n",
      "643/643 [==============================] - 1s 1ms/step - loss: 6.3269e-05 - val_loss: 0.0262\n",
      "Epoch 10/10\n",
      "643/643 [==============================] - 1s 1ms/step - loss: 5.9977e-05 - val_loss: 0.0466\n",
      "201/201 [==============================] - 0s 825us/step\n",
      "50/50 [==============================] - 0s 837us/step\n",
      "Train Mean Absolute Error: 1.539621464649133\n",
      "Train Root Mean Squared Error: 1.6008260451278837\n",
      "-------------------------------30--------------------------\n",
      "Epoch 1/10\n",
      "641/641 [==============================] - 2s 2ms/step - loss: 9.5583e-05 - val_loss: 0.1392\n",
      "Epoch 2/10\n",
      "641/641 [==============================] - 1s 1ms/step - loss: 6.2299e-04 - val_loss: 0.1373\n",
      "Epoch 3/10\n",
      "641/641 [==============================] - 1s 1ms/step - loss: 1.4197e-04 - val_loss: 0.1330\n",
      "Epoch 4/10\n",
      "641/641 [==============================] - 1s 1ms/step - loss: 9.0488e-05 - val_loss: 0.1434\n",
      "Epoch 5/10\n",
      "641/641 [==============================] - 1s 1ms/step - loss: 8.2977e-05 - val_loss: 0.1538\n",
      "Epoch 6/10\n",
      "641/641 [==============================] - 1s 1ms/step - loss: 7.8168e-05 - val_loss: 0.1759\n",
      "Epoch 7/10\n",
      "641/641 [==============================] - 1s 1ms/step - loss: 7.8867e-05 - val_loss: 0.1689\n",
      "Epoch 8/10\n",
      "641/641 [==============================] - 1s 1ms/step - loss: 7.8288e-05 - val_loss: 0.1947\n",
      "Epoch 9/10\n",
      "641/641 [==============================] - 1s 1ms/step - loss: 8.3106e-05 - val_loss: 0.1864\n",
      "Epoch 10/10\n",
      "641/641 [==============================] - 1s 1ms/step - loss: 7.3756e-05 - val_loss: 0.1913\n",
      "201/201 [==============================] - 0s 785us/step\n",
      "50/50 [==============================] - 0s 837us/step\n",
      "Train Mean Absolute Error: 1.6867242632811186\n",
      "Train Root Mean Squared Error: 1.7664445661354633\n",
      "-------------------------------31--------------------------\n",
      "Epoch 1/10\n",
      "641/641 [==============================] - 2s 2ms/step - loss: 8.5989e-05 - val_loss: 0.1431\n",
      "Epoch 2/10\n",
      "641/641 [==============================] - 1s 1ms/step - loss: 6.0931e-04 - val_loss: 0.1367\n",
      "Epoch 3/10\n",
      "641/641 [==============================] - 1s 1ms/step - loss: 1.1357e-04 - val_loss: 0.1169\n",
      "Epoch 4/10\n",
      "641/641 [==============================] - 1s 1ms/step - loss: 7.9936e-05 - val_loss: 0.1194\n",
      "Epoch 5/10\n",
      "641/641 [==============================] - 1s 1ms/step - loss: 7.3314e-05 - val_loss: 0.1478\n",
      "Epoch 6/10\n",
      "641/641 [==============================] - 1s 1ms/step - loss: 7.1984e-05 - val_loss: 0.1500\n",
      "Epoch 7/10\n",
      "641/641 [==============================] - 1s 1ms/step - loss: 6.9417e-05 - val_loss: 0.1568\n",
      "Epoch 8/10\n",
      "641/641 [==============================] - 1s 1ms/step - loss: 6.7065e-05 - val_loss: 0.1605\n",
      "Epoch 9/10\n",
      "641/641 [==============================] - 1s 1ms/step - loss: 7.3069e-05 - val_loss: 0.1715\n",
      "Epoch 10/10\n",
      "641/641 [==============================] - 1s 1ms/step - loss: 6.9835e-05 - val_loss: 0.1712\n",
      "201/201 [==============================] - 0s 750us/step\n",
      "50/50 [==============================] - 0s 776us/step\n",
      "Train Mean Absolute Error: 1.5360519309681677\n",
      "Train Root Mean Squared Error: 1.6221136376103018\n",
      "-------------------------------32--------------------------\n",
      "Epoch 1/10\n",
      "641/641 [==============================] - 2s 2ms/step - loss: 8.5777e-05 - val_loss: 0.1396\n",
      "Epoch 2/10\n",
      "641/641 [==============================] - 1s 1ms/step - loss: 6.0701e-04 - val_loss: 0.1364\n",
      "Epoch 3/10\n",
      "641/641 [==============================] - 1s 1ms/step - loss: 1.3129e-04 - val_loss: 0.1408\n",
      "Epoch 4/10\n",
      "641/641 [==============================] - 1s 1ms/step - loss: 8.0955e-05 - val_loss: 0.1654\n",
      "Epoch 5/10\n",
      "641/641 [==============================] - 1s 1ms/step - loss: 8.0631e-05 - val_loss: 0.1929\n",
      "Epoch 6/10\n",
      "641/641 [==============================] - 1s 1ms/step - loss: 8.5379e-05 - val_loss: 0.1831\n",
      "Epoch 7/10\n",
      "641/641 [==============================] - 1s 1ms/step - loss: 7.4224e-05 - val_loss: 0.1960\n",
      "Epoch 8/10\n",
      "641/641 [==============================] - 1s 1ms/step - loss: 7.2585e-05 - val_loss: 0.2002\n",
      "Epoch 9/10\n",
      "641/641 [==============================] - 1s 1ms/step - loss: 7.4036e-05 - val_loss: 0.2071\n",
      "Epoch 10/10\n",
      "641/641 [==============================] - 1s 1ms/step - loss: 7.6239e-05 - val_loss: 0.1958\n",
      "201/201 [==============================] - 0s 760us/step\n",
      "50/50 [==============================] - 0s 796us/step\n",
      "Train Mean Absolute Error: 1.2246339363164624\n",
      "Train Root Mean Squared Error: 1.4734754174448388\n",
      "-------------------------------33--------------------------\n",
      "Epoch 1/10\n",
      "641/641 [==============================] - 2s 2ms/step - loss: 8.1154e-05 - val_loss: 0.1531\n",
      "Epoch 2/10\n",
      "641/641 [==============================] - 1s 1ms/step - loss: 6.0373e-04 - val_loss: 0.1554\n",
      "Epoch 3/10\n",
      "641/641 [==============================] - 1s 1ms/step - loss: 1.0140e-04 - val_loss: 0.1442\n",
      "Epoch 4/10\n",
      "641/641 [==============================] - 1s 1ms/step - loss: 8.0540e-05 - val_loss: 0.1628\n",
      "Epoch 5/10\n",
      "641/641 [==============================] - 1s 1ms/step - loss: 7.5917e-05 - val_loss: 0.1663\n",
      "Epoch 6/10\n",
      "641/641 [==============================] - 1s 1ms/step - loss: 7.4987e-05 - val_loss: 0.1741\n",
      "Epoch 7/10\n",
      "641/641 [==============================] - 1s 1ms/step - loss: 7.0880e-05 - val_loss: 0.1883\n",
      "Epoch 8/10\n",
      "641/641 [==============================] - 1s 1ms/step - loss: 7.3003e-05 - val_loss: 0.1918\n",
      "Epoch 9/10\n",
      "641/641 [==============================] - 1s 1ms/step - loss: 7.1335e-05 - val_loss: 0.1835\n",
      "Epoch 10/10\n",
      "641/641 [==============================] - 1s 1ms/step - loss: 6.8196e-05 - val_loss: 0.1983\n",
      "201/201 [==============================] - 0s 835us/step\n",
      "50/50 [==============================] - 0s 816us/step\n",
      "Train Mean Absolute Error: 1.7844042342001816\n",
      "Train Root Mean Squared Error: 1.8663759589783677\n",
      "-------------------------------34--------------------------\n",
      "Epoch 1/10\n",
      "641/641 [==============================] - 2s 2ms/step - loss: 8.4059e-05 - val_loss: 0.1381\n",
      "Epoch 2/10\n",
      "641/641 [==============================] - 1s 1ms/step - loss: 6.4834e-04 - val_loss: 0.1316\n",
      "Epoch 3/10\n",
      "641/641 [==============================] - 1s 1ms/step - loss: 1.3594e-04 - val_loss: 0.1332\n",
      "Epoch 4/10\n",
      "641/641 [==============================] - 1s 1ms/step - loss: 9.5406e-05 - val_loss: 0.1615\n",
      "Epoch 5/10\n",
      "641/641 [==============================] - 1s 1ms/step - loss: 8.7808e-05 - val_loss: 0.1596\n",
      "Epoch 6/10\n",
      "641/641 [==============================] - 1s 1ms/step - loss: 8.4246e-05 - val_loss: 0.1810\n",
      "Epoch 7/10\n",
      "641/641 [==============================] - 1s 1ms/step - loss: 7.7885e-05 - val_loss: 0.1781\n",
      "Epoch 8/10\n",
      "641/641 [==============================] - 1s 1ms/step - loss: 7.7425e-05 - val_loss: 0.1666\n",
      "Epoch 9/10\n",
      "641/641 [==============================] - 1s 1ms/step - loss: 7.4965e-05 - val_loss: 0.1799\n",
      "Epoch 10/10\n",
      "641/641 [==============================] - 1s 1ms/step - loss: 7.0301e-05 - val_loss: 0.1828\n",
      "201/201 [==============================] - 0s 785us/step\n",
      "50/50 [==============================] - 0s 918us/step\n",
      "Train Mean Absolute Error: 1.078901878533069\n",
      "Train Root Mean Squared Error: 1.240413894695834\n",
      "-------------------------------35--------------------------\n",
      "Epoch 1/10\n",
      "641/641 [==============================] - 2s 2ms/step - loss: 8.9487e-05 - val_loss: 0.1356\n",
      "Epoch 2/10\n",
      "641/641 [==============================] - 1s 1ms/step - loss: 6.9619e-04 - val_loss: 0.1342\n",
      "Epoch 3/10\n",
      "641/641 [==============================] - 1s 1ms/step - loss: 1.3203e-04 - val_loss: 0.1381\n",
      "Epoch 4/10\n",
      "641/641 [==============================] - 1s 1ms/step - loss: 9.0012e-05 - val_loss: 0.1554\n",
      "Epoch 5/10\n",
      "641/641 [==============================] - 1s 1ms/step - loss: 8.5176e-05 - val_loss: 0.1620\n",
      "Epoch 6/10\n",
      "641/641 [==============================] - 1s 1ms/step - loss: 8.6858e-05 - val_loss: 0.1729\n",
      "Epoch 7/10\n",
      "641/641 [==============================] - 1s 1ms/step - loss: 8.0478e-05 - val_loss: 0.1674\n",
      "Epoch 8/10\n",
      "641/641 [==============================] - 1s 1ms/step - loss: 8.1419e-05 - val_loss: 0.1802\n",
      "Epoch 9/10\n",
      "641/641 [==============================] - 1s 1ms/step - loss: 7.9622e-05 - val_loss: 0.1602\n",
      "Epoch 10/10\n",
      "641/641 [==============================] - 1s 1ms/step - loss: 7.3010e-05 - val_loss: 0.1698\n",
      "201/201 [==============================] - 0s 875us/step\n",
      "50/50 [==============================] - 0s 796us/step\n",
      "Train Mean Absolute Error: 1.0156821793299378\n",
      "Train Root Mean Squared Error: 1.1654149805089091\n",
      "-------------------------------36--------------------------\n",
      "Epoch 1/10\n",
      "641/641 [==============================] - 2s 2ms/step - loss: 8.5938e-05 - val_loss: 0.1320\n",
      "Epoch 2/10\n",
      "641/641 [==============================] - 1s 1ms/step - loss: 6.6213e-04 - val_loss: 0.1333\n",
      "Epoch 3/10\n",
      "641/641 [==============================] - 1s 1ms/step - loss: 1.1832e-04 - val_loss: 0.1419\n",
      "Epoch 4/10\n",
      "641/641 [==============================] - 1s 1ms/step - loss: 9.0100e-05 - val_loss: 0.1473\n",
      "Epoch 5/10\n",
      "641/641 [==============================] - 1s 1ms/step - loss: 7.6871e-05 - val_loss: 0.1751\n",
      "Epoch 6/10\n",
      "641/641 [==============================] - 1s 1ms/step - loss: 7.8156e-05 - val_loss: 0.1653\n",
      "Epoch 7/10\n",
      "641/641 [==============================] - 1s 1ms/step - loss: 7.9298e-05 - val_loss: 0.1747\n",
      "Epoch 8/10\n",
      "641/641 [==============================] - 1s 1ms/step - loss: 7.6067e-05 - val_loss: 0.1915\n",
      "Epoch 9/10\n",
      "641/641 [==============================] - 1s 1ms/step - loss: 7.2818e-05 - val_loss: 0.1772\n",
      "Epoch 10/10\n",
      "641/641 [==============================] - 1s 1ms/step - loss: 7.5049e-05 - val_loss: 0.1747\n",
      "201/201 [==============================] - 1s 800us/step\n",
      "50/50 [==============================] - 0s 796us/step\n",
      "Train Mean Absolute Error: 1.1001488442724\n",
      "Train Root Mean Squared Error: 1.3191554752980907\n",
      "-------------------------------37--------------------------\n",
      "Epoch 1/10\n",
      "641/641 [==============================] - 2s 2ms/step - loss: 8.3900e-05 - val_loss: 0.1354\n",
      "Epoch 2/10\n",
      "641/641 [==============================] - 1s 1ms/step - loss: 6.2690e-04 - val_loss: 0.1321\n",
      "Epoch 3/10\n",
      "641/641 [==============================] - 1s 1ms/step - loss: 1.3172e-04 - val_loss: 0.1288\n",
      "Epoch 4/10\n",
      "641/641 [==============================] - 1s 1ms/step - loss: 9.9573e-05 - val_loss: 0.1462\n",
      "Epoch 5/10\n",
      "641/641 [==============================] - 1s 1ms/step - loss: 8.0498e-05 - val_loss: 0.1520\n",
      "Epoch 6/10\n",
      "641/641 [==============================] - 1s 1ms/step - loss: 8.7857e-05 - val_loss: 0.1586\n",
      "Epoch 7/10\n",
      "641/641 [==============================] - 1s 1ms/step - loss: 7.9704e-05 - val_loss: 0.1775\n",
      "Epoch 8/10\n",
      "641/641 [==============================] - 1s 1ms/step - loss: 8.0589e-05 - val_loss: 0.1799\n",
      "Epoch 9/10\n",
      "641/641 [==============================] - 1s 1ms/step - loss: 7.1762e-05 - val_loss: 0.1712\n",
      "Epoch 10/10\n",
      "641/641 [==============================] - 1s 1ms/step - loss: 7.3987e-05 - val_loss: 0.1774\n",
      "201/201 [==============================] - 0s 755us/step\n",
      "50/50 [==============================] - 0s 796us/step\n",
      "Train Mean Absolute Error: 0.9198196682973009\n",
      "Train Root Mean Squared Error: 1.0565453028715077\n",
      "-------------------------------38--------------------------\n",
      "Epoch 1/10\n",
      "641/641 [==============================] - 2s 2ms/step - loss: 8.8286e-05 - val_loss: 0.1418\n",
      "Epoch 2/10\n",
      "641/641 [==============================] - 1s 1ms/step - loss: 6.0699e-04 - val_loss: 0.1382\n",
      "Epoch 3/10\n",
      "641/641 [==============================] - 1s 1ms/step - loss: 1.1978e-04 - val_loss: 0.1266\n",
      "Epoch 4/10\n",
      "641/641 [==============================] - 1s 1ms/step - loss: 8.5261e-05 - val_loss: 0.1468\n",
      "Epoch 5/10\n",
      "641/641 [==============================] - 1s 1ms/step - loss: 8.1716e-05 - val_loss: 0.1698\n",
      "Epoch 6/10\n",
      "641/641 [==============================] - 1s 1ms/step - loss: 7.8547e-05 - val_loss: 0.1631\n",
      "Epoch 7/10\n",
      "641/641 [==============================] - 1s 1ms/step - loss: 7.7952e-05 - val_loss: 0.1648\n",
      "Epoch 8/10\n",
      "641/641 [==============================] - 1s 1ms/step - loss: 7.9935e-05 - val_loss: 0.1610\n",
      "Epoch 9/10\n",
      "641/641 [==============================] - 1s 1ms/step - loss: 7.0910e-05 - val_loss: 0.1562\n",
      "Epoch 10/10\n",
      "641/641 [==============================] - 1s 1ms/step - loss: 7.2731e-05 - val_loss: 0.1511\n",
      "201/201 [==============================] - 0s 765us/step\n",
      "50/50 [==============================] - 0s 735us/step\n",
      "Train Mean Absolute Error: 0.9382563599932726\n",
      "Train Root Mean Squared Error: 1.0740218002576856\n",
      "-------------------------------39--------------------------\n",
      "Epoch 1/10\n",
      "641/641 [==============================] - 2s 2ms/step - loss: 8.8613e-05 - val_loss: 0.1381\n",
      "Epoch 2/10\n",
      "641/641 [==============================] - 1s 1ms/step - loss: 5.8039e-04 - val_loss: 0.1505\n",
      "Epoch 3/10\n",
      "641/641 [==============================] - 1s 1ms/step - loss: 1.2081e-04 - val_loss: 0.1441\n",
      "Epoch 4/10\n",
      "641/641 [==============================] - 1s 1ms/step - loss: 9.0071e-05 - val_loss: 0.1543\n",
      "Epoch 5/10\n",
      "641/641 [==============================] - 1s 1ms/step - loss: 8.2939e-05 - val_loss: 0.1495\n",
      "Epoch 6/10\n",
      "641/641 [==============================] - 1s 1ms/step - loss: 7.3731e-05 - val_loss: 0.1621\n",
      "Epoch 7/10\n",
      "641/641 [==============================] - 1s 1ms/step - loss: 6.5399e-05 - val_loss: 0.1771\n",
      "Epoch 8/10\n",
      "641/641 [==============================] - 1s 1ms/step - loss: 7.0420e-05 - val_loss: 0.1999\n",
      "Epoch 9/10\n",
      "641/641 [==============================] - 1s 1ms/step - loss: 7.4982e-05 - val_loss: 0.2010\n",
      "Epoch 10/10\n",
      "641/641 [==============================] - 1s 1ms/step - loss: 7.2429e-05 - val_loss: 0.1967\n",
      "201/201 [==============================] - 0s 805us/step\n",
      "50/50 [==============================] - 0s 796us/step\n",
      "Train Mean Absolute Error: 0.9152548541884741\n",
      "Train Root Mean Squared Error: 1.1529041944660148\n"
     ]
    }
   ],
   "source": [
    "# wielkosc batchu [10, 20, 50]\n",
    "batch_start, batch_end = 30, 40 # od do\n",
    "look_backs = [3,10,30] # takie look backi sprawdzamy i potem do nich mozemy wykresy zrobic\n",
    "\n",
    "\n",
    "error_look_back = {}\n",
    "for look_back in look_backs:\n",
    "  MAEs = []\n",
    "  MSEs = []\n",
    "  Y_trains = []\n",
    "  train_predicts = []\n",
    "\n",
    "  X_train, Y_train = create_dataset_lstm(train, look_back)\n",
    "  X_test, Y_test = create_dataset_lstm(test, look_back)\n",
    "  X_train = np.reshape(X_train, (X_train.shape[0], 1, X_train.shape[1]))\n",
    "  X_test = np.reshape(X_test, (X_test.shape[0], 1, X_test.shape[1]))\n",
    "  for batch in range(batch_start, batch_end):\n",
    "    print(f'-------------------------------{batch}--------------------------')\n",
    "    history = lstm_model(X_train, Y_train, X_test, Y_test, batch_size=batch)\n",
    "    tmp_Y_train, tmp_train_predict, MAE, MSE  = evaluation_model(history,X_train, X_test, Y_train, testing=True)\n",
    "    \n",
    "    MAEs.append(MAE)\n",
    "    MSEs.append(MSE)\n",
    "    Y_trains.append(tmp_Y_train)\n",
    "    train_predicts.append(tmp_train_predict)\n",
    "  error_look_back[look_back] = {\"MAE\":MAEs, \"MSE\":MSEs, \"Y_trains\": Y_trains, \"train_predicts\": train_predicts}\n",
    "\n"
   ]
  },
  {
   "cell_type": "markdown",
   "metadata": {},
   "source": [
    "#### Wraz ze wzrostem batch'a, pogorszaja sie na wyniki - MAE i MSE idealnie powinny rownac sie zero, wiec generalnie im mniejsze ich wartosci, tym model uwazamy za lepszy"
   ]
  },
  {
   "cell_type": "code",
   "execution_count": 40,
   "metadata": {
    "colab": {
     "base_uri": "https://localhost:8080/"
    },
    "id": "nNeu-weeMnsY",
    "outputId": "ea51694e-87b0-405c-b663-c25a18f6436c"
   },
   "outputs": [
    {
     "data": {
      "text/plain": [
       "(6419, 8)"
      ]
     },
     "execution_count": 40,
     "metadata": {},
     "output_type": "execute_result"
    }
   ],
   "source": [
    "# wyświetlenie liczby kolumn i wierszy; 2849:1346= 2,1 , a więc 20% (a wcześniej ratio 0.8), więc tak przyjął; model treningowy z predykcją (czerwona linia na wykresie)\n",
    "train_predict.shape"
   ]
  },
  {
   "cell_type": "code",
   "execution_count": 41,
   "metadata": {},
   "outputs": [
    {
     "data": {
      "text/plain": [
       "[1.6317562698643688,\n",
       " 1.601779453949555,\n",
       " 1.6270674208300064,\n",
       " 1.457162545249997,\n",
       " 1.4938349293564184,\n",
       " 1.671545568531322,\n",
       " 1.516745961240589,\n",
       " 1.5804657805202476,\n",
       " 1.593210982284078,\n",
       " 1.4701596159087975]"
      ]
     },
     "execution_count": 41,
     "metadata": {},
     "output_type": "execute_result"
    }
   ],
   "source": [
    "error_look_back[3][\"MSE\"]"
   ]
  },
  {
   "cell_type": "code",
   "execution_count": 42,
   "metadata": {},
   "outputs": [
    {
     "data": {
      "text/plain": [
       "[1.5780293368816691,\n",
       " 1.4990442016511638,\n",
       " 1.553587934304998,\n",
       " 1.3861638516030852,\n",
       " 1.4119790043762255,\n",
       " 1.590723824255413,\n",
       " 1.4374661186011712,\n",
       " 1.5133298192267426,\n",
       " 1.5218995386147318,\n",
       " 1.4094604559664006]"
      ]
     },
     "execution_count": 42,
     "metadata": {},
     "output_type": "execute_result"
    }
   ],
   "source": [
    "error_look_back[3][\"MAE\"]"
   ]
  },
  {
   "cell_type": "code",
   "execution_count": 43,
   "metadata": {
    "colab": {
     "base_uri": "https://localhost:8080/"
    },
    "id": "QVFzpdz8NCvZ",
    "outputId": "0aa11263-a0ac-442a-a05e-328bd45d4164"
   },
   "outputs": [
    {
     "name": "stdout",
     "output_type": "stream",
     "text": [
      "[1.0565453028715077, 1.0740218002576856, 1.1529041944660148, 1.1654149805089091, 1.240413894695834, 1.3191554752980907, 1.4734754174448388, 1.6221136376103018, 1.7664445661354633, 1.8663759589783677]\n"
     ]
    }
   ],
   "source": [
    "# wyświetlenie i posortowanie MSE\n",
    "MSEs.sort()\n",
    "print(MSEs)"
   ]
  },
  {
   "cell_type": "code",
   "execution_count": 44,
   "metadata": {
    "colab": {
     "base_uri": "https://localhost:8080/",
     "height": 282
    },
    "id": "IDLSfMoeSYIJ",
    "outputId": "aa9a1c45-fdc7-4ecf-8da5-9b9e3ea686f0"
   },
   "outputs": [
    {
     "data": {
      "text/plain": [
       "<Axes: >"
      ]
     },
     "execution_count": 44,
     "metadata": {},
     "output_type": "execute_result"
    },
    {
     "data": {
      "image/png": "[encoded data removed]",
      "text/plain": [
       "<Figure size 640x480 with 1 Axes>"
      ]
     },
     "metadata": {},
     "output_type": "display_data"
    }
   ],
   "source": [
    "# wykres kreśli linię MSE, oraz MAE\n",
    "look_back_to_check = 3 \n",
    "sns.lineplot(x=[a for a in range(batch_start, batch_end)], y=error_look_back[look_back_to_check][\"MSE\"])\n",
    "sns.lineplot(x=[a for a in range(batch_start, batch_end)], y=error_look_back[look_back_to_check][\"MAE\"])\n"
   ]
  },
  {
   "cell_type": "code",
   "execution_count": 45,
   "metadata": {
    "colab": {
     "base_uri": "https://localhost:8080/",
     "height": 331
    },
    "id": "FKkdbS5adpp3",
    "outputId": "5655fbf0-6246-42fb-9256-5c700bcdae0b"
   },
   "outputs": [
    {
     "data": {
      "image/png": "[encoded data removed]",
      "text/plain": [
       "<Figure size 800x400 with 1 Axes>"
      ]
     },
     "metadata": {},
     "output_type": "display_data"
    }
   ],
   "source": [
    "batch_index = 9 # to znaczy batch_start (bedzie tyle indexow ile jest od batch_start do batch_end)\n",
    "look_back_to_check = 3 #jak to wyrzucimy, to tez bedzie dzialac\n",
    "visualization(Y_train = error_look_back[look_back_to_check][\"Y_trains\"][batch_index], train_predict = error_look_back[look_back_to_check][\"train_predicts\"][batch_index])"
   ]
  },
  {
   "cell_type": "code",
   "execution_count": 46,
   "metadata": {
    "colab": {
     "base_uri": "https://localhost:8080/"
    },
    "id": "fC3jQGyaeOHF",
    "outputId": "a54537d7-a14f-4a06-e1b9-44ae407596c6"
   },
   "outputs": [
    {
     "data": {
      "text/plain": [
       "array([[ 0.510823  ,  0.51719802,  0.51719802, ..., 11.6384003 ,\n",
       "        11.37560024, 11.0725006 ]])"
      ]
     },
     "execution_count": 46,
     "metadata": {},
     "output_type": "execute_result"
    }
   ],
   "source": [
    "error_look_back[3][\"Y_trains\"][0]"
   ]
  }
 ],
 "metadata": {
  "colab": {
   "collapsed_sections": [],
   "name": "Copy of testowanie_modelu_agata.ipynb",
   "provenance": [],
   "toc_visible": true
  },
  "kernelspec": {
   "display_name": "Python 3",
   "language": "python",
   "name": "python3"
  },
  "language_info": {
   "codemirror_mode": {
    "name": "ipython",
    "version": 3
   },
   "file_extension": ".py",
   "mimetype": "text/x-python",
   "name": "python",
   "nbconvert_exporter": "python",
   "pygments_lexer": "ipython3",
   "version": "3.10.1"
  },
  "vscode": {
   "interpreter": {
    "hash": "e7286f011d42076cdedd4771fff713554f96c38f1a4a2d19d61157e512e52d79"
   }
  }
 },
 "nbformat": 4,
 "nbformat_minor": 1
}

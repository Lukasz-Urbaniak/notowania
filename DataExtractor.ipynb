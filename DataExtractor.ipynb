{
 "cells": [
  {
   "cell_type": "markdown",
   "metadata": {},
   "source": [
    "# Welcome to Jupyter!"
   ]
  },
  {
   "cell_type": "code",
   "execution_count": 12,
   "metadata": {},
   "outputs": [
    {
     "name": "stdout",
     "output_type": "stream",
     "text": [
      "['brk-a_us_d.csv', 'xom_us_d.csv', 'pfe_us_d.csv', '^spx_d.csv', 'tsla_us_d.csv', 'ibm_us_d.csv', 'msft_us_d.csv', 'aapl_us_d.csv', 't_us_d.csv', 'jnj_us_d.csv', 'ms_us_d.csv', '.ipynb_checkpoints', 'DataExtractor.ipynb', '.git']\n",
      "['brk-a_us_d.csv', 'xom_us_d.csv', 'pfe_us_d.csv', '^spx_d.csv', 'tsla_us_d.csv', 'ibm_us_d.csv', 'msft_us_d.csv', 'aapl_us_d.csv', 't_us_d.csv', 'ms_us_d.csv']\n",
      "            Otwarcie  Najwyzszy  Najnizszy  Zamkniecie       Wolumen  \\\n",
      "Data                                                                   \n",
      "2010-06-28   41.8220    42.3750    41.6807     42.1338  2.231482e+07   \n",
      "2010-06-29   41.8778    42.1122    41.5896     41.9837  2.854288e+07   \n",
      "\n",
      "            Otwarcie_brk-a_us_d  Najwyzszy_brk-a_us_d  Najnizszy_brk-a_us_d  \\\n",
      "Data                                                                          \n",
      "2010-06-28             121600.0              121999.0              121200.0   \n",
      "2010-06-29             120300.0              121950.0              119405.0   \n",
      "\n",
      "            Zamkniecie_brk-a_us_d  Wolumen_brk-a_us_d  ...  Otwarcie_t_us_d  \\\n",
      "Data                                                   ...                    \n",
      "2010-06-28               121200.0              1750.0  ...          9.13427   \n",
      "2010-06-29               120199.0              1602.0  ...          9.12768   \n",
      "\n",
      "            Najwyzszy_t_us_d  Najnizszy_t_us_d  Zamkniecie_t_us_d  \\\n",
      "Data                                                                \n",
      "2010-06-28           9.24478           9.12475            9.16134   \n",
      "2010-06-29           9.14158           8.90812            8.97911   \n",
      "\n",
      "            Wolumen_t_us_d  Otwarcie_ms_us_d  Najwyzszy_ms_us_d  \\\n",
      "Data                                                              \n",
      "2010-06-28    5.948512e+07           19.7592            19.7906   \n",
      "2010-06-29    1.439640e+08           18.9743            18.9910   \n",
      "\n",
      "            Najnizszy_ms_us_d  Zamkniecie_ms_us_d  Wolumen_ms_us_d  \n",
      "Data                                                                \n",
      "2010-06-28            19.2844             19.3688     1.629740e+07  \n",
      "2010-06-29            18.3807             18.5249     2.898565e+07  \n",
      "\n",
      "[2 rows x 55 columns]\n"
     ]
    }
   ],
   "source": [
    "import os\n",
    "import pandas as pd\n",
    "\n",
    "\n",
    "main_table = pd.read_csv('/Users/luke/Documents/notowania/jnj_us_d.csv', index_col='Data')\n",
    "\n",
    "files = os.listdir('/Users/luke/Documents/notowania/')\n",
    "files.remove('jnj_us_d.csv')\n",
    "files.remove('.ipynb_checkpoints')\n",
    "files.remove('DataExtractor.ipynb')\n",
    "files.remove('.git')\n",
    "#print(files)\n",
    "#print(os.listdir('zmienne/'))\n",
    "\n",
    "for file in files:\n",
    "    dane = pd.read_csv('/Users/luke/Documents/notowania/' + file, index_col='Data', engine='python')\n",
    "\n",
    "    main_table = main_table.merge(right=dane,\n",
    "                                  how='inner',\n",
    "                                  left_index=True,\n",
    "                                  right_index=True,\n",
    "                                  copy=False,\n",
    "                                  suffixes=('', '_'+file[:-4]))\n",
    "\n",
    "main_table.to_csv('/Users/luke/Documents/notowania/integrated_data.csv')\n",
    "print(main_table.head(2))\n"
   ]
  },
  {
   "cell_type": "code",
   "execution_count": null,
   "metadata": {},
   "outputs": [],
   "source": []
  }
 ],
 "metadata": {
  "kernelspec": {
   "display_name": "Python 3",
   "language": "python",
   "name": "python3"
  },
  "language_info": {
   "codemirror_mode": {
    "name": "ipython",
    "version": 3
   },
   "file_extension": ".py",
   "mimetype": "text/x-python",
   "name": "python",
   "nbconvert_exporter": "python",
   "pygments_lexer": "ipython3",
   "version": "3.10.7"
  },
  "vscode": {
   "interpreter": {
    "hash": "aee8b7b246df8f9039afb4144a1f6fd8d2ca17a180786b69acc140d282b71a49"
   }
  }
 },
 "nbformat": 4,
 "nbformat_minor": 2
}
